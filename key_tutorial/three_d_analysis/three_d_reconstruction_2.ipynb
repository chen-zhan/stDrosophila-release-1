{
 "cells": [
  {
   "cell_type": "markdown",
   "metadata": {
    "collapsed": true,
    "pycharm": {
     "name": "#%% md\n"
    }
   },
   "source": [
    "## **Three dims reconstruction of surface mesh**\n",
    "\n",
    "    This notebook demonstrate:\n",
    "    1.3D surface mesh reconstruction of the whole body;\n",
    "    2.3D surface mesh reconstruction of the tissues;\n",
    "    3.Merge all generated surfaces and save as vtk file;\n",
    "    4.Read vtk files and visualize.\n",
    "\n",
    "Although most of the functions of 3D reconstruction can be used in jupyter notebook, I prefer to use an edition like PyCharm.\n",
    "Most widgets cannot be used in jupyter notebook, but only in vtk rendering window, so PyCharm is highly recommended.\n",
    "\n",
    "Additionally, The visualization of surface mesh in jupyter notebook is poor due to rendering.\n",
    "Please copy the following code into an arbitrary `.py` file to run in PyCharm."
   ]
  },
  {
   "cell_type": "markdown",
   "source": [
    "### **Packages**"
   ],
   "metadata": {
    "collapsed": false,
    "pycharm": {
     "name": "#%% md\n"
    }
   }
  },
  {
   "cell_type": "code",
   "execution_count": null,
   "outputs": [],
   "source": [
    "import anndata as ad\n",
    "import stDrosophila as sd"
   ],
   "metadata": {
    "collapsed": false,
    "pycharm": {
     "name": "#%%\n",
     "is_executing": true
    }
   }
  },
  {
   "cell_type": "markdown",
   "source": [
    "### **Example data (Drosophila E16-18-a)**"
   ],
   "metadata": {
    "collapsed": false,
    "pycharm": {
     "name": "#%% md\n"
    }
   }
  },
  {
   "cell_type": "code",
   "execution_count": null,
   "outputs": [],
   "source": [
    "file = r\"/home/yao/BGIpy37_pytorch113/drosophila_E16_18/E16-18_a_SCT_anno.h5ad\"\n",
    "adata = ad.read(file)\n",
    "adata.obs[\"x\"] = adata.obs[\"x\"] - adata.obs[\"x\"].min()\n",
    "adata.obs[\"y\"] = adata.obs[\"y\"] - adata.obs[\"y\"].min()\n",
    "adata.obs[\"z\"] = adata.obs[\"z\"] - 4.9\n",
    "adata.obs[[\"x\", \"y\", \"z\"]] = adata.obs[[\"x\", \"y\", \"z\"]].round(2)\n",
    "adata.obsm[\"spatial\"] = adata.obs[[\"x\", \"y\", \"z\"]].values\n",
    "print(adata)\n",
    "print(adata.obs[\"anno\"].unique())"
   ],
   "metadata": {
    "collapsed": false,
    "pycharm": {
     "name": "#%%\n",
     "is_executing": true
    }
   }
  },
  {
   "cell_type": "markdown",
   "source": [
    "### **3D reconstrcution of the whole body**\n",
    "3D surface mesh can be reconstructed by this method.\n",
    "\n",
    "#### `sd.tl.construct_surface`: Construct a surface mesh based on 3D point cloud model."
   ],
   "metadata": {
    "collapsed": false,
    "pycharm": {
     "name": "#%% md\n"
    }
   }
  },
  {
   "cell_type": "code",
   "source": [
    "pcd = sd.tl.construct_pcd(adata=adata, coordsby=\"spatial\", groupby=\"anno\", key_added=\"groups\", colormap=\"rainbow\", alphamap=1.0)\n",
    "surf, pcd = sd.tl.construct_surface(pcd=pcd, key_added=\"groups\", color=\"gainsboro\", alpha=0.5, surface_smoothness=200)\n",
    "sd.pl.three_d_plot(mesh=surf, key=\"groups\", jupyter=True)"
   ],
   "metadata": {
    "collapsed": false,
    "pycharm": {
     "name": "#%%\n",
     "is_executing": true
    }
   },
   "execution_count": null,
   "outputs": []
  },
  {
   "cell_type": "markdown",
   "source": [
    "### **3D reconstrcution of the tissue**"
   ],
   "metadata": {
    "collapsed": false,
    "pycharm": {
     "name": "#%% md\n"
    }
   }
  },
  {
   "cell_type": "markdown",
   "source": [
    "tissue 1: fat body"
   ],
   "metadata": {
    "collapsed": false,
    "pycharm": {
     "name": "#%% md\n"
    }
   }
  },
  {
   "cell_type": "code",
   "execution_count": null,
   "outputs": [],
   "source": [
    "fb_adata = adata[adata.obs[\"anno\"] == \"fat body\", :].copy()\n",
    "fb_adata = sd.tl.om_EllipticEnvelope(adata=fb_adata, coordsby=\"spatial\", threshold=0.2)\n",
    "fb_adata = sd.tl.om_kde(adata=fb_adata, coordsby=\"spatial\", threshold=0.2, kernel=\"gaussian\", bandwidth=1.0)\n",
    "fb_pcd = sd.tl.construct_pcd(adata=fb_adata, coordsby=\"spatial\", groupby=\"anno\", key_added=\"groups\", colormap=\"blue\", alphamap=1.0)\n",
    "fb_surf, fb_pcd = sd.tl.construct_surface(pcd=fb_pcd, key_added=\"groups\", color=\"skyblue\", alpha=0.5, surface_smoothness=200)\n",
    "fb_mesh = sd.tl.collect_mesh([fb_surf, fb_pcd])\n",
    "sd.pl.three_d_plot(mesh=fb_mesh, key=\"groups\", jupyter=True)"
   ],
   "metadata": {
    "collapsed": false,
    "pycharm": {
     "name": "#%%\n",
     "is_executing": true
    }
   }
  },
  {
   "cell_type": "markdown",
   "source": [
    "tissue 2: CNS"
   ],
   "metadata": {
    "collapsed": false,
    "pycharm": {
     "name": "#%% md\n"
    }
   }
  },
  {
   "cell_type": "code",
   "execution_count": 4,
   "outputs": [],
   "source": [],
   "metadata": {
    "collapsed": false,
    "pycharm": {
     "name": "#%%\n"
    }
   }
  },
  {
   "cell_type": "code",
   "execution_count": 4,
   "outputs": [],
   "source": [],
   "metadata": {
    "collapsed": false,
    "pycharm": {
     "name": "#%%\n"
    }
   }
  }
 ],
 "metadata": {
  "kernelspec": {
   "display_name": "Python 3",
   "language": "python",
   "name": "python3"
  },
  "language_info": {
   "codemirror_mode": {
    "name": "ipython",
    "version": 2
   },
   "file_extension": ".py",
   "mimetype": "text/x-python",
   "name": "python",
   "nbconvert_exporter": "python",
   "pygments_lexer": "ipython2",
   "version": "2.7.6"
  }
 },
 "nbformat": 4,
 "nbformat_minor": 0
}