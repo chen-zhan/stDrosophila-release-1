{
 "cells": [
  {
   "cell_type": "markdown",
   "metadata": {
    "collapsed": true,
    "pycharm": {
     "name": "#%% md\n"
    }
   },
   "source": [
    "# L3_b file preprocessing\n",
    "    This notebook demonstrate:\n",
    "    1.merge different parts of the same slice and save in compressed csv format(.gz);\n",
    "    2.convert bin1 data to bin20, bin50 and bin100 data;\n",
    "    3.slicing 3D structures.\n",
    "    4.the relevant plotting functions;"
   ]
  },
  {
   "cell_type": "code",
   "execution_count": 7,
   "outputs": [],
   "source": [
    "import os\n",
    "\n",
    "import pandas as pd\n",
    "import stDrosophila as sd"
   ],
   "metadata": {
    "collapsed": false,
    "pycharm": {
     "name": "#%%\n"
    }
   }
  },
  {
   "cell_type": "markdown",
   "source": [
    "### 1.merge different parts of the same slice and save in compressed csv format(.gz)"
   ],
   "metadata": {
    "collapsed": false,
    "pycharm": {
     "name": "#%% md\n"
    }
   }
  },
  {
   "cell_type": "code",
   "execution_count": 5,
   "outputs": [
    {
     "name": "stdout",
     "output_type": "stream",
     "text": [
      "        geneID      x      y  MIDCounts\n",
      "12       128up  17091  15747          1\n",
      "16       128up  17131  15852          1\n",
      "23       128up  17157  15626          1\n",
      "26       128up  17157  15953          1\n",
      "35       128up  17167  15625          1\n",
      "...        ...    ...    ...        ...\n",
      "2254730    zye  23708  15313          1\n",
      "2255329    zye  23722  15337          1\n",
      "2254985    zye  23741  15428          1\n",
      "2254949    zye  23746  15339          2\n",
      "2254790    zye  23754  15321          1\n",
      "\n",
      "[5839573 rows x 4 columns]\n",
      "        geneID      x      y  MIDCounts\n",
      "12       128up  17091  15747          1\n",
      "16       128up  17131  15852          1\n",
      "23       128up  17157  15626          1\n",
      "26       128up  17157  15953          1\n",
      "35       128up  17167  15625          1\n",
      "...        ...    ...    ...        ...\n",
      "2254730    zye  23708  15313          1\n",
      "2255329    zye  23722  15337          1\n",
      "2254985    zye  23741  15428          1\n",
      "2254949    zye  23746  15339          2\n",
      "2254790    zye  23754  15321          1\n",
      "\n",
      "[5839573 rows x 4 columns]\n"
     ]
    }
   ],
   "source": [
    "# concat file\n",
    "file1 = \"/media/yao/Elements SE/BGI_Paper/L3_new/L3_b/lasso/lasso_L3_b_bin1_raw/L3_b_S24_1.gem.gz\"\n",
    "file2 = \"/media/yao/Elements SE/BGI_Paper/L3_new/L3_b/lasso/lasso_L3_b_bin1_raw/L3_b_S24_2.gem.gz\"\n",
    "file3 = \"/media/yao/Elements SE/BGI_Paper/L3_new/L3_b/lasso/lasso_L3_b_bin1_raw/L3_b_S24_3.gem.gz\"\n",
    "data1 = sd.io.read_lasso(filename=file1)\n",
    "data2 = sd.io.read_lasso(filename=file2)\n",
    "data3 = sd.io.read_lasso(filename=file3)\n",
    "concat_data = pd.concat([data1, data2, data3], axis=0)\n",
    "concat_data.sort_values(by=[\"geneID\", \"x\", \"y\", \"MIDCounts\"], inplace=True)\n",
    "concat_data.to_csv(\"/media/yao/Elements SE/BGI_Paper/L3_new/L3_b/lasso/lasso_L3_b_bin1/L3_b_S24.gem.gz\",\n",
    "                   index=False, sep=\"\\t\", compression=\"gzip\")\n",
    "print(concat_data)"
   ],
   "metadata": {
    "collapsed": false,
    "pycharm": {
     "name": "#%%\n"
    }
   }
  },
  {
   "cell_type": "markdown",
   "source": [
    "### 2.convert bin1 data to bin20, bin50 and bin100 data"
   ],
   "metadata": {
    "collapsed": false,
    "pycharm": {
     "name": "#%% md\n"
    }
   }
  },
  {
   "cell_type": "code",
   "execution_count": 8,
   "outputs": [
    {
     "name": "stdout",
     "output_type": "stream",
     "text": [
      "L3_b_S24.gem.gz\n"
     ]
    },
    {
     "ename": "TypeError",
     "evalue": "bin1tobinx() got an unexpected keyword argument 'save_format'",
     "output_type": "error",
     "traceback": [
      "\u001B[0;31m---------------------------------------------------------------------------\u001B[0m",
      "\u001B[0;31mTypeError\u001B[0m                                 Traceback (most recent call last)",
      "\u001B[0;32m/tmp/ipykernel_1103683/4260925342.py\u001B[0m in \u001B[0;36m<module>\u001B[0;34m\u001B[0m\n\u001B[1;32m      9\u001B[0m     \u001B[0;31m# bin20\u001B[0m\u001B[0;34m\u001B[0m\u001B[0;34m\u001B[0m\u001B[0;34m\u001B[0m\u001B[0m\n\u001B[1;32m     10\u001B[0m     bin20_data = sd.pp.bin1tobinx(bin1_data, binx=20,\n\u001B[0;32m---> 11\u001B[0;31m                                   save=f\"/media/yao/Elements SE/BGI_Paper/L3_new/L3_b/lasso/lasso_L3_b_bin20/{file_name}\", save_format=\"gzip\")\n\u001B[0m\u001B[1;32m     12\u001B[0m     \u001B[0;31m# bin50\u001B[0m\u001B[0;34m\u001B[0m\u001B[0;34m\u001B[0m\u001B[0;34m\u001B[0m\u001B[0m\n\u001B[1;32m     13\u001B[0m     bin50_data = sd.pp.bin1tobinx(bin1_data, binx=50,\n",
      "\u001B[0;31mTypeError\u001B[0m: bin1tobinx() got an unexpected keyword argument 'save_format'"
     ]
    }
   ],
   "source": [
    "folder = \"/media/yao/Elements SE/BGI_Paper/L3_new/L3_b/lasso/lasso_L3_b_bin1\"\n",
    "files = [os.path.join(root, filename)for root, dirs, files in os.walk(folder)for filename in files]\n",
    "files.sort()\n",
    "for file in files:\n",
    "    # read bin1 data\n",
    "    bin1_data = sd.io.read_lasso(filename=file)\n",
    "    file_name = file.split(\"/\")[-1]\n",
    "    print(file_name)\n",
    "    # bin20\n",
    "    bin20_data = sd.pp.bin1tobinx(bin1_data, binx=20,\n",
    "                                  save=f\"/media/yao/Elements SE/BGI_Paper/L3_new/L3_b/lasso/lasso_L3_b_bin20/{file_name}\", save_format=\"gzip\")\n",
    "    # bin50\n",
    "    bin50_data = sd.pp.bin1tobinx(bin1_data, binx=50,\n",
    "                                  save=f\"/media/yao/Elements SE/BGI_Paper/L3_new/L3_b/lasso/lasso_L3_b_bin50/{file_name}\", save_format=\"gzip\")\n",
    "    # bin100\n",
    "    bin100_data = sd.pp.bin1tobinx(bin1_data, binx=100,\n",
    "                                  save=f\"/media/yao/Elements SE/BGI_Paper/L3_new/L3_b/lasso/lasso_L3_b_bin100/{file_name}\", save_format=\"gzip\")"
   ],
   "metadata": {
    "collapsed": false,
    "pycharm": {
     "name": "#%%\n"
    }
   }
  },
  {
   "cell_type": "code",
   "execution_count": null,
   "outputs": [],
   "source": [],
   "metadata": {
    "collapsed": false,
    "pycharm": {
     "name": "#%%\n"
    }
   }
  }
 ],
 "metadata": {
  "kernelspec": {
   "display_name": "Python 3",
   "language": "python",
   "name": "python3"
  },
  "language_info": {
   "codemirror_mode": {
    "name": "ipython",
    "version": 2
   },
   "file_extension": ".py",
   "mimetype": "text/x-python",
   "name": "python",
   "nbconvert_exporter": "python",
   "pygments_lexer": "ipython2",
   "version": "2.7.6"
  }
 },
 "nbformat": 4,
 "nbformat_minor": 0
}