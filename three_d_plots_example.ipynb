{
 "cells": [
  {
   "cell_type": "markdown",
   "metadata": {
    "pycharm": {
     "name": "#%% md\n"
    }
   },
   "source": [
    "# **Reconstruction 3D model based on spatial transcriptomics**"
   ]
  },
  {
   "cell_type": "markdown",
   "metadata": {},
   "source": [
    "## **Import packages**"
   ]
  },
  {
   "cell_type": "code",
   "execution_count": 1,
   "metadata": {
    "pycharm": {
     "name": "#%%\n"
    }
   },
   "outputs": [],
   "source": [
    "import warnings\n",
    "warnings.filterwarnings(\"ignore\")\n",
    "from stDrosophila.pl import *"
   ]
  },
  {
   "cell_type": "markdown",
   "metadata": {},
   "source": [
    "## **Load data**"
   ]
  },
  {
   "cell_type": "code",
   "execution_count": 25,
   "metadata": {
    "pycharm": {
     "name": "#%%\n"
    }
   },
   "outputs": [],
   "source": [
    "ipath = \"/home/yao/BGIpy37_pytorch113/ST_Drosophila/6_3D_Reconstruction/three_d_test_adata.h5ad\"\n",
    "adata = ad.read(ipath)"
   ]
  },
  {
   "cell_type": "markdown",
   "metadata": {
    "pycharm": {
     "name": "#%% md\n"
    }
   },
   "source": [
    "## **Create an unstructured mesh**"
   ]
  },
  {
   "cell_type": "markdown",
   "metadata": {
    "pycharm": {
     "name": "#%% md\n"
    }
   },
   "source": [
    "### **Create an points cloud (pyvista.PolyData)**"
   ]
  },
  {
   "cell_type": "code",
   "execution_count": 26,
   "metadata": {
    "pycharm": {
     "name": "#%%\n"
    },
    "scrolled": true
   },
   "outputs": [
    {
     "name": "stderr",
     "output_type": "stream",
     "text": [
      "\u001B[0m\u001B[33m2022-01-14 23:58:52.004 (21194.767s) [        9A0B4740]      vtkDelaunay3D.cxx:521   WARN| vtkDelaunay3D (0x562b7a6b9b10): 709 degenerate triangles encountered, mesh quality suspect\u001B[0m\n",
      "\u001B[0m\u001B[33m2022-01-14 23:59:21.255 (21224.018s) [        9A0B4740]      vtkDelaunay3D.cxx:521   WARN| vtkDelaunay3D (0x562b7c045930): 598 degenerate triangles encountered, mesh quality suspect\u001B[0m\n"
     ]
    }
   ],
   "source": [
    "cloud_mesh, cloud_surface = build_3Dmodel(adata=adata, coordsby=[\"x\", \"y\", \"z\"], groupby=\"anno\", group_show=\"fat body\",\n",
    "                                          gene_show=\"Adh\", group_cmap=[\"dodgerblue\"], group_amap=1.0, gene_cmap=\"hot_r\",\n",
    "                                          gene_amap=1.0, mask_color=\"gainsboro\", mask_alpha=0.2)"
   ]
  },
  {
   "cell_type": "markdown",
   "metadata": {
    "pycharm": {
     "name": "#%% md\n"
    }
   },
   "source": [
    "**Plot groups**"
   ]
  },
  {
   "cell_type": "code",
   "execution_count": 27,
   "metadata": {
    "pycharm": {
     "name": "#%%\n"
    },
    "scrolled": false
   },
   "outputs": [
    {
     "data": {
      "text/plain": "ViewInteractiveWidget(height=768, layout=Layout(height='auto', width='100%'), width=1024)",
      "application/vnd.jupyter.widget-view+json": {
       "version_major": 2,
       "version_minor": 0,
       "model_id": "7d1f64c3227b4909a9812f012987a381"
      }
     },
     "metadata": {},
     "output_type": "display_data"
    }
   ],
   "source": [
    "p1 = pv.Plotter(notebook=True)\n",
    "p1.add_mesh(cloud_surface, color=\"gainsboro\", opacity=0.5)\n",
    "p1.add_mesh(cloud_mesh, scalars=\"groups_rgba\", rgba=True, render_points_as_spheres=True, ambient=0.5)\n",
    "p1.background_color = \"white\"\n",
    "p1.camera_position = \"iso\"\n",
    "p1.show()"
   ]
  },
  {
   "cell_type": "markdown",
   "metadata": {
    "pycharm": {
     "name": "#%% md\n"
    }
   },
   "source": [
    "**Plot genes expression**"
   ]
  },
  {
   "cell_type": "code",
   "execution_count": 28,
   "metadata": {
    "pycharm": {
     "name": "#%%\n"
    }
   },
   "outputs": [
    {
     "data": {
      "text/plain": "ViewInteractiveWidget(height=768, layout=Layout(height='auto', width='100%'), width=1024)",
      "application/vnd.jupyter.widget-view+json": {
       "version_major": 2,
       "version_minor": 0,
       "model_id": "fc9614e2d7b742cb9048f99bee06c83f"
      }
     },
     "metadata": {},
     "output_type": "display_data"
    }
   ],
   "source": [
    "p1 = pv.Plotter(notebook=True)\n",
    "p1.add_mesh(cloud_surface, color=\"gainsboro\", opacity=0.5)\n",
    "p1.add_mesh(cloud_mesh, scalars=\"genes_rgba\", rgba=True, render_points_as_spheres=True, ambient=0.5)\n",
    "p1.background_color = \"white\"\n",
    "p1.camera_position = \"iso\"\n",
    "p1.show()"
   ]
  },
  {
   "cell_type": "markdown",
   "metadata": {
    "pycharm": {
     "name": "#%% md\n"
    }
   },
   "source": [
    "### **Create an voxelized volume(pyvista.UnstructuredGrid)**"
   ]
  },
  {
   "cell_type": "code",
   "execution_count": 29,
   "metadata": {
    "pycharm": {
     "name": "#%%\n"
    }
   },
   "outputs": [
    {
     "name": "stderr",
     "output_type": "stream",
     "text": [
      "\u001B[0m\u001B[33m2022-01-14 23:59:48.319 (21251.082s) [        9A0B4740]      vtkDelaunay3D.cxx:521   WARN| vtkDelaunay3D (0x562b853bb6e0): 709 degenerate triangles encountered, mesh quality suspect\u001B[0m\n",
      "\u001B[0m\u001B[33m2022-01-15 00:00:17.426 (21280.190s) [        9A0B4740]      vtkDelaunay3D.cxx:521   WARN| vtkDelaunay3D (0x562b79fde350): 598 degenerate triangles encountered, mesh quality suspect\u001B[0m\n"
     ]
    }
   ],
   "source": [
    "mesh, surface = build_3Dmodel(adata=adata, coordsby=[\"x\", \"y\", \"z\"], groupby=\"anno\", group_show=\"fat body\",\n",
    "                              gene_show=\"all\", group_cmap=[\"dodgerblue\"], group_amap=1.0, gene_cmap=\"hot_r\",\n",
    "                              gene_amap=1.0, mask_color=\"gainsboro\", mask_alpha=0.2, voxelize=True, voxel_size=[1, 1, 1])"
   ]
  },
  {
   "cell_type": "code",
   "execution_count": 30,
   "metadata": {
    "pycharm": {
     "name": "#%%\n"
    }
   },
   "outputs": [
    {
     "data": {
      "text/plain": "ViewInteractiveWidget(height=768, layout=Layout(height='auto', width='100%'), width=1024)",
      "application/vnd.jupyter.widget-view+json": {
       "version_major": 2,
       "version_minor": 0,
       "model_id": "85cd166941ff40cc8d73c3c9955972e6"
      }
     },
     "metadata": {},
     "output_type": "display_data"
    }
   ],
   "source": [
    "p2 = pv.Plotter(notebook=True)\n",
    "p2.add_mesh(surface, color=\"gainsboro\", opacity=0.2)\n",
    "p2.add_mesh(mesh, scalars=\"groups_rgba\", rgba=True, opacity=0.2)\n",
    "p2.background_color = \"white\"\n",
    "p2.camera_position = \"iso\"\n",
    "p2.show()"
   ]
  },
  {
   "cell_type": "markdown",
   "metadata": {
    "pycharm": {
     "name": "#%% md\n"
    }
   },
   "source": [
    "## Slicing"
   ]
  },
  {
   "cell_type": "code",
   "execution_count": 31,
   "metadata": {
    "pycharm": {
     "name": "#%%\n"
    }
   },
   "outputs": [],
   "source": [
    "## x axis\n",
    "slices_x = threeDslicing(mesh=mesh, axis=\"x\", n_slices=10)\n",
    "## y axis\n",
    "slices_y = threeDslicing(mesh=mesh, axis=\"y\", n_slices=10)\n",
    "## z axis\n",
    "slices_z = threeDslicing(mesh=mesh, axis=\"z\", n_slices=4)\n",
    "## orthogonal\n",
    "slices_o = threeDslicing(mesh=mesh, n_slices=\"orthogonal\", center=None)"
   ]
  },
  {
   "cell_type": "code",
   "execution_count": 32,
   "metadata": {
    "pycharm": {
     "name": "#%%\n"
    }
   },
   "outputs": [
    {
     "data": {
      "text/plain": "ViewInteractiveWidget(height=768, layout=Layout(height='auto', width='100%'), width=1024)",
      "application/vnd.jupyter.widget-view+json": {
       "version_major": 2,
       "version_minor": 0,
       "model_id": "b2224582c56f47c9aaeb8e3b79459938"
      }
     },
     "metadata": {},
     "output_type": "display_data"
    }
   ],
   "source": [
    "p3 = pv.Plotter(shape=(2,2), notebook=True)\n",
    "p3.subplot(0, 0)\n",
    "p3.add_mesh(slices_x, scalars=\"groups_rgba\", rgba=True)\n",
    "p3.background_color = \"white\"\n",
    "p3.camera_position = \"iso\"\n",
    "p3.subplot(0, 1)\n",
    "p3.add_mesh(slices_y, scalars=\"groups_rgba\", rgba=True)\n",
    "p3.background_color = \"white\"\n",
    "p3.camera_position = \"iso\"\n",
    "p3.subplot(1, 0)\n",
    "p3.add_mesh(slices_z, scalars=\"groups_rgba\", rgba=True)\n",
    "p3.background_color = \"white\"\n",
    "p3.camera_position = \"iso\"\n",
    "p3.subplot(1, 1)\n",
    "p3.add_mesh(slices_o, scalars=\"groups_rgba\", rgba=True)\n",
    "p3.background_color = \"white\"\n",
    "p3.camera_position = \"iso\"\n",
    "p3.show()"
   ]
  }
 ],
 "metadata": {
  "kernelspec": {
   "display_name": "Python 3 (ipykernel)",
   "language": "python",
   "name": "python3"
  },
  "language_info": {
   "codemirror_mode": {
    "name": "ipython",
    "version": 3
   },
   "file_extension": ".py",
   "mimetype": "text/x-python",
   "name": "python",
   "nbconvert_exporter": "python",
   "pygments_lexer": "ipython3",
   "version": "3.7.12"
  }
 },
 "nbformat": 4,
 "nbformat_minor": 1
}