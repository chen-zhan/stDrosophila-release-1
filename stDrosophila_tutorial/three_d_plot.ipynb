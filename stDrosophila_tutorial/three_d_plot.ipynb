{
 "cells": [
  {
   "cell_type": "code",
   "execution_count": 1,
   "metadata": {},
   "outputs": [],
   "source": [
    "import re\n",
    "import math\n",
    "import warnings\n",
    "import numpy as np\n",
    "import pandas as pd\n",
    "import anndata as ad\n",
    "import pyvista as pv\n",
    "import PVGeo\n",
    "import matplotlib as mpl\n",
    "import seaborn as sns\n",
    "from anndata import AnnData\n",
    "from pandas import Series, DataFrame\n",
    "from typing import Union, Optional, Sequence, List\n",
    "\n",
    "\n",
    "def clip_3d_coords(adata: AnnData,\n",
    "                   coordsby: Optional[List] = None\n",
    "                   ):\n",
    "\n",
    "    if coordsby is None:\n",
    "        coordsby = [\"x\", \"y\", \"z\"]\n",
    "    points_data = adata.obs[coordsby]\n",
    "    points_arr = points_data.values.astype(float)\n",
    "    grid = pv.PolyData(points_arr)\n",
    "    grid[\"index\"] = adata.obs_names.tolist()\n",
    "    # Clip mesh using a pyvista.PolyData surface mesh.\n",
    "    surf = grid.delaunay_3d().extract_geometry()\n",
    "    surf.subdivide(nsub=3, subfilter=\"loop\", inplace=True)\n",
    "    clipped_grid = grid.clip_surface(surf)\n",
    "    indices = np.array(np.nonzero(np.in1d(clipped_grid.points, surf.points))[0])\n",
    "    print(indices)\n",
    "    print(len(indices))\n",
    "    clipped_grid.remove_points(indices)\n",
    "    clipped_grid.plot()\n",
    "    clipped_adata = adata[adata.obs.index.isin(clipped_grid[\"index\"].tolist()), :]\n",
    "\n",
    "    return clipped_adata, surf\n",
    "\n",
    "\n",
    "def group_color(groups,\n",
    "                colormap: Union[str, list, dict] = \"viridis\",\n",
    "                alphamap: Union[float, list, dict] = 1.0,\n",
    "                mask_color: Optional[str] = \"whitesmoke\",\n",
    "                mask_alpha: Optional[float] = 0.5\n",
    "                ):\n",
    "\n",
    "    color_groups = groups.unique().tolist()\n",
    "    color_groups.sort()\n",
    "    colordict = {}\n",
    "    if \"mask\" in color_groups:\n",
    "        color_groups.remove(\"mask\")\n",
    "        rgb_color = mpl.colors.to_rgb(mask_color)\n",
    "        colordict[\"mask\"] = [rgb_color[0], rgb_color[1], rgb_color[2], mask_alpha]\n",
    "\n",
    "    # Set group color\n",
    "    if isinstance(alphamap, float) or isinstance(alphamap, int):\n",
    "        alphamap = {group: alphamap for group in color_groups}\n",
    "    elif isinstance(alphamap, list):\n",
    "        alphamap = {group: alpha for group, alpha in zip(color_groups, alphamap)}\n",
    "    if isinstance(colormap, str):\n",
    "        colormap = [mpl.colors.to_hex(i, keep_alpha=False) for i in\n",
    "                    sns.color_palette(palette=colormap, n_colors=len(color_groups), as_cmap=False)]\n",
    "    if isinstance(colormap, list):\n",
    "        colormap = {group: color for group, color in zip(color_groups, colormap)}\n",
    "    for group in color_groups:\n",
    "        rgb_color = mpl.colors.to_rgb(colormap[group])\n",
    "        colordict[group] = [rgb_color[0], rgb_color[1], rgb_color[2], alphamap[group]]\n",
    "\n",
    "    return colordict\n",
    "\n",
    "\n",
    "def build_3Dmodel(adata: AnnData,\n",
    "                  coordsby: Optional[list] = None,\n",
    "                  groupby: Optional[str] = \"cluster\",\n",
    "                  group_show: Union[str, list] = \"all\",\n",
    "                  gene_show: Union[str, list] = \"all\",\n",
    "                  colormap: Union[str, list, dict] = \"viridis\",\n",
    "                  alphamap: Union[float, list, dict] = 1.0,\n",
    "                  mask_color: Optional[str] = \"whitesmoke\",\n",
    "                  mask_alpha: Optional[float] = 0.5,\n",
    "                  smoothing: Optional[bool] = True,\n",
    "                  voxelize: Optional[bool] = True\n",
    "                  ):\n",
    "    # Clip mesh using a pyvista.PolyData surface mesh.\n",
    "    if smoothing:\n",
    "        _adata, _ = clip_3d_coords(adata=adata, coordsby=coordsby)\n",
    "    else:\n",
    "        _adata = adata\n",
    "\n",
    "    # filter group info\n",
    "    if isinstance(group_show, str) and group_show is \"all\":\n",
    "        groups = _adata.obs[groupby]\n",
    "    elif isinstance(group_show, str) and group_show is not \"all\":\n",
    "        groups = _adata.obs[groupby].map(lambda x: str(x) if x == group_show else \"mask\")\n",
    "    elif isinstance(group_show, list) or isinstance(group_show, tuple):\n",
    "        groups = _adata.obs[groupby].map(lambda x: str(x) if x in group_show else \"mask\")\n",
    "    else:\n",
    "        raise ValueError(\"`group_show` value is wrong.\")\n",
    "\n",
    "    # Set group color(rgba)\n",
    "    colordict = group_color(groups=groups, colormap=colormap, alphamap=alphamap,\n",
    "                            mask_color=mask_color, mask_alpha=mask_alpha)\n",
    "\n",
    "    # Create a point cloud(pyvista.PolyData) or a voxelized volume(pyvista.UnstructuredGrid).\n",
    "    if coordsby is None:\n",
    "        coordsby = [\"x\", \"y\", \"z\"]\n",
    "    points_data = _adata.obs[coordsby]\n",
    "    points_data = points_data.astype(float)\n",
    "    points = PVGeo.points_to_poly_data(points_data)\n",
    "    surface = points.delaunay_3d().extract_geometry()\n",
    "    mesh = PVGeo.filters.VoxelizePoints().apply(points) if voxelize else points\n",
    "    mesh[\"points_coords\"] = points_data\n",
    "    mesh[\"genes_exp\"] = _adata.X.sum(axis=1) if gene_show == \"all\" else _adata[:, gene_show].X.sum(axis=1)\n",
    "    mesh[groupby] = groups.values\n",
    "    mesh[f\"{groupby}_rgba\"] = np.array([colordict[g] for g in groups.tolist()])\n",
    "\n",
    "    return mesh, surface\n",
    "\n",
    "\n",
    "def threeDslicing(model,\n",
    "                  axis: Union[str, int] = \"x\",\n",
    "                  n_slices: Union[str, int] = 10,\n",
    "                  center: Optional[Sequence[float]] = None):\n",
    "\n",
    "    if isinstance(model, pv.core.pointset.UnstructuredGrid) is False:\n",
    "        warnings.warn(\"The model should be a pyvista.UnstructuredGrid (voxelized) object.\")\n",
    "\n",
    "    if n_slices is \"orthogonal\":\n",
    "        # Create three orthogonal slices through the dataset on the three cartesian planes.\n",
    "        if center is None:\n",
    "            return model.slice_orthogonal(x=None, y=None, z=None)\n",
    "        else:\n",
    "            return model.slice_orthogonal(x=center[0], y=center[1], z=center[2])\n",
    "    elif n_slices == 1:\n",
    "        # Slice a dataset by a plane at the specified origin and normal vector orientation.\n",
    "        return model.slice(normal=axis, origin=center, contour=True)\n",
    "    else:\n",
    "        # Create many slices of the input dataset along a specified axis.\n",
    "        return model.slice_along_axis(n=n_slices, axis=axis, center=center)\n",
    "\n",
    "\n",
    "def easy_plot(surface=None, models=None, scalars=None, shape=(1, 1), cpos=\"iso\", background_color=\"white\", save=None):\n",
    "\n",
    "    if isinstance(models, list) is False:\n",
    "        models = [models]\n",
    "    if isinstance(shape, str):\n",
    "        n = re.split(\"[|/]\", shape)\n",
    "        subplot_index_list = [i for i in range(int(n[0]) + int(n[1]))]\n",
    "    else:\n",
    "        subplot_index_list = [[i, j] for i in range(shape[0]) for j in range(shape[1])]\n",
    "\n",
    "    p = pv.Plotter(shape=shape)\n",
    "    p.background_color = background_color\n",
    "    for model, subplot_index in zip(models, subplot_index_list):\n",
    "        if isinstance(subplot_index, int):\n",
    "            p.subplot(subplot_index)\n",
    "        elif isinstance(subplot_index, list):\n",
    "            p.subplot(subplot_index[0], subplot_index[1])\n",
    "        if surface is not None:\n",
    "            p.add_mesh(surface, color=\"whitesmoke\", opacity=0.2)\n",
    "        p.add_mesh(model, scalars=scalars, rgba=True)\n",
    "    p.camera_position = cpos\n",
    "    p.show(screenshot=save)"
   ]
  },
  {
   "cell_type": "markdown",
   "metadata": {
    "pycharm": {
     "name": "#%% md\n"
    }
   },
   "source": [
    "**Load data**"
   ]
  },
  {
   "cell_type": "code",
   "execution_count": 2,
   "metadata": {
    "pycharm": {
     "name": "#%%\n"
    }
   },
   "outputs": [
    {
     "name": "stdout",
     "output_type": "stream",
     "text": [
      "AnnData object with n_obs × n_vars = 63114 × 394\n",
      "    obs: 'slice', 'x', 'y', 'z', 'anno'\n",
      "    obsm: 'raw_spatial', 'spatial'\n",
      "    layers: 'raw_counts'\n"
     ]
    }
   ],
   "source": [
    "ipath = \"./three_d_test_adata.h5ad\"\n",
    "adata = ad.read(ipath)\n",
    "print(adata)"
   ]
  },
  {
   "cell_type": "markdown",
   "metadata": {
    "pycharm": {
     "name": "#%% md\n"
    }
   },
   "source": [
    "**Create a point cloud(pyvista.PolyData)**"
   ]
  },
  {
   "cell_type": "code",
   "execution_count": 3,
   "metadata": {
    "pycharm": {
     "name": "#%%\n"
    }
   },
   "outputs": [
    {
     "name": "stderr",
     "output_type": "stream",
     "text": [
      "\u001B[0m\u001B[33m2022-01-13 14:47:54.241 (  25.164s) [        B6347740]      vtkDelaunay3D.cxx:521   WARN| vtkDelaunay3D (0x559224d59890): 709 degenerate triangles encountered, mesh quality suspect\u001B[0m\n"
     ]
    },
    {
     "name": "stdout",
     "output_type": "stream",
     "text": [
      "pyvista DataSetAttributes\n",
      "Association     : POINT\n",
      "Active Scalars  : anno_rgba\n",
      "Active Vectors  : None\n",
      "Active Texture  : None\n",
      "Active Normals  : None\n",
      "Contains arrays :\n",
      "    points_coords           float64  (61557, 3)\n",
      "    genes_exp               float32  (61557,)\n",
      "    anno                    <U8      (61557,)\n",
      "    anno_rgba               float64  (61557, 4)           SCALARS\n"
     ]
    },
    {
     "name": "stderr",
     "output_type": "stream",
     "text": [
      "\u001B[0m\u001B[33m2022-01-13 14:48:22.725 (  53.647s) [        B6347740]      vtkDelaunay3D.cxx:521   WARN| vtkDelaunay3D (0x559225b0f5c0): 586 degenerate triangles encountered, mesh quality suspect\u001B[0m\n"
     ]
    }
   ],
   "source": [
    "mesh, surface = build_3Dmodel(adata=adata, coordsby=[\"x\", \"y\", \"z\"], groupby=\"anno\", group_show=\"fat body\",\n",
    "                              gene_show=\"all\", colormap=[\"dodgerblue\"], alphamap=1.0, mask_color=\"whitesmoke\",\n",
    "                              mask_alpha=0.5, smoothing=True, voxelize=False)\n",
    "print(mesh.point_data)"
   ]
  },
  {
   "cell_type": "code",
   "execution_count": 4,
   "metadata": {
    "pycharm": {
     "is_executing": true,
     "name": "#%%\n"
    }
   },
   "outputs": [
    {
     "data": {
      "application/vnd.jupyter.widget-view+json": {
       "model_id": "bf1a38dd02a042368b914b963728080a",
       "version_major": 2,
       "version_minor": 0
      },
      "text/plain": [
       "ViewInteractiveWidget(height=768, layout=Layout(height='auto', width='100%'), width=1024)"
      ]
     },
     "metadata": {},
     "output_type": "display_data"
    }
   ],
   "source": [
    "easy_plot(surface=surface, models=mesh, scalars=\"anno_rgba\", shape=(1, 1), cpos=\"iso\")"
   ]
  },
  {
   "cell_type": "markdown",
   "metadata": {
    "pycharm": {
     "name": "#%% md\n"
    }
   },
   "source": [
    "**Create a voxelized volume(pyvista.UnstructuredGrid)**"
   ]
  },
  {
   "cell_type": "code",
   "execution_count": 5,
   "metadata": {
    "pycharm": {
     "name": "#%%\n"
    }
   },
   "outputs": [
    {
     "name": "stderr",
     "output_type": "stream",
     "text": [
      "\u001B[0m\u001B[33m2022-01-13 14:48:48.895 (  79.817s) [        B6347740]      vtkDelaunay3D.cxx:521   WARN| vtkDelaunay3D (0x559225c88f10): 709 degenerate triangles encountered, mesh quality suspect\u001B[0m\n",
      "\u001B[0m\u001B[33m2022-01-13 14:49:17.658 ( 108.581s) [        B6347740]      vtkDelaunay3D.cxx:521   WARN| vtkDelaunay3D (0x55922804f050): 586 degenerate triangles encountered, mesh quality suspect\u001B[0m\n"
     ]
    },
    {
     "name": "stdout",
     "output_type": "stream",
     "text": [
      "pyvista DataSetAttributes\n",
      "Association     : CELL\n",
      "Active Scalars  : anno_rgba\n",
      "Active Vectors  : None\n",
      "Active Texture  : None\n",
      "Active Normals  : None\n",
      "Contains arrays :\n",
      "    points_coords           float64  (61557, 3)\n",
      "    genes_exp               float32  (61557,)\n",
      "    anno                    <U8      (61557,)\n",
      "    anno_rgba               float64  (61557, 4)           SCALARS\n"
     ]
    }
   ],
   "source": [
    "mesh, surface = build_3Dmodel(adata=adata, coordsby=[\"x\", \"y\", \"z\"], groupby=\"anno\", group_show=\"fat body\",\n",
    "                              gene_show=\"all\", colormap=[\"dodgerblue\"], alphamap=0.7, mask_color=\"whitesmoke\",\n",
    "                              mask_alpha=0.2, smoothing=True, voxelize=True)\n",
    "print(mesh.cell_data)"
   ]
  },
  {
   "cell_type": "code",
   "execution_count": 6,
   "metadata": {
    "pycharm": {
     "name": "#%%\n"
    },
    "scrolled": true
   },
   "outputs": [
    {
     "data": {
      "application/vnd.jupyter.widget-view+json": {
       "model_id": "eab779af1a4349358f28ed4d7535837a",
       "version_major": 2,
       "version_minor": 0
      },
      "text/plain": [
       "ViewInteractiveWidget(height=768, layout=Layout(height='auto', width='100%'), width=1024)"
      ]
     },
     "metadata": {},
     "output_type": "display_data"
    }
   ],
   "source": [
    "easy_plot(surface=surface, models=mesh, scalars=\"anno_rgba\", shape=(1, 1), cpos=\"iso\")"
   ]
  },
  {
   "cell_type": "markdown",
   "metadata": {
    "pycharm": {
     "name": "#%% md\n"
    }
   },
   "source": [
    "**Slicing**"
   ]
  },
  {
   "cell_type": "code",
   "execution_count": 7,
   "metadata": {
    "pycharm": {
     "name": "#%%\n"
    }
   },
   "outputs": [
    {
     "data": {
      "application/vnd.jupyter.widget-view+json": {
       "model_id": "4627639609374d309538b8e5e63a6766",
       "version_major": 2,
       "version_minor": 0
      },
      "text/plain": [
       "ViewInteractiveWidget(height=768, layout=Layout(height='auto', width='100%'), width=1024)"
      ]
     },
     "metadata": {},
     "output_type": "display_data"
    }
   ],
   "source": [
    "## x axis\n",
    "slices_x = threeDslicing(model=mesh, axis=\"x\", n_slices=10)\n",
    "## y axis\n",
    "slices_y = threeDslicing(model=mesh, axis=\"y\", n_slices=10)\n",
    "## z axis\n",
    "slices_z = threeDslicing(model=mesh, axis=\"z\", n_slices=4)\n",
    "## orthogonal\n",
    "slices_o = threeDslicing(model=mesh, n_slices=\"orthogonal\", center=None)\n",
    "easy_plot(surface=None, models=[slices_x, slices_y, slices_z, slices_o], scalars=\"anno_rgba\",\n",
    "          shape=(2, 2), cpos=\"iso\", background_color=\"white\")"
   ]
  }
 ],
 "metadata": {
  "kernelspec": {
   "display_name": "Python 3 (ipykernel)",
   "language": "python",
   "name": "python3"
  },
  "language_info": {
   "codemirror_mode": {
    "name": "ipython",
    "version": 3
   },
   "file_extension": ".py",
   "mimetype": "text/x-python",
   "name": "python",
   "nbconvert_exporter": "python",
   "pygments_lexer": "ipython3",
   "version": "3.7.12"
  }
 },
 "nbformat": 4,
 "nbformat_minor": 1
}