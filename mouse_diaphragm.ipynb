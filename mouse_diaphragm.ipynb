{
 "cells": [
  {
   "cell_type": "markdown",
   "metadata": {
    "collapsed": true,
    "pycharm": {
     "name": "#%% md\n"
    }
   },
   "source": [
    "# The process of analyzing the spatial transcriptome data of mouse diaphragm"
   ]
  },
  {
   "cell_type": "markdown",
   "source": [
    "### convert bin1 to bin20"
   ],
   "metadata": {
    "collapsed": false,
    "pycharm": {
     "name": "#%% md\n"
    }
   }
  },
  {
   "cell_type": "code",
   "execution_count": 1,
   "outputs": [
    {
     "name": "stdout",
     "output_type": "stream",
     "text": [
      "----mouse_diaphragm_C1.gem.gz start!\n",
      "----mouse_diaphragm_C1.gem.gz successfully!\n",
      "----mouse_diaphragm_C2.gem.gz start!\n",
      "----mouse_diaphragm_C2.gem.gz successfully!\n",
      "----mouse_diaphragm_C3.gem.gz start!\n",
      "----mouse_diaphragm_C3.gem.gz successfully!\n"
     ]
    }
   ],
   "source": [
    "import os\n",
    "import sys\n",
    "\n",
    "import stDrosophila as sd\n",
    "folder = \"/media/yao/Elements SE/BGI_Paper/mouse_diaphragm/lasso_raw/lasso_bin1\"\n",
    "files = [os.path.join(root, filename)for root, dirs, files in os.walk(folder)for filename in files]\n",
    "files.sort()\n",
    "for file in files:\n",
    "    bin1_data = sd.io.read_lasso(filename=file)\n",
    "    file_name = file.split(\"/\")[-1]\n",
    "\n",
    "    print(f\"----{file_name} start!\")\n",
    "    data = sd.pp.bin1tobinx(bin1_data, 20,\n",
    "                            save=f\"/media/yao/Elements SE/BGI_Paper/mouse_diaphragm/lasso_raw/lasso_bin20/{file_name}\", save_format=\"gzip\")\n",
    "    del data\n",
    "    print(f\"----{file_name} successfully!\")"
   ],
   "metadata": {
    "collapsed": false,
    "pycharm": {
     "name": "#%%\n"
    }
   }
  },
  {
   "cell_type": "markdown",
   "source": [
    "## cropping lasso file based on ssDNA image (semi-automatic)\n",
    "   1. Preprocess the ssDNA image and lasso image through `sd.pp.pre_photo` and `sd.pp.pre_lasso` respectively;\n",
    "   2. Register the image and cut out the required image position through photoshop;\n",
    "   3. Process the lasso matrix with the photoshopped image through `sd.pp.cropbyphoto`."
   ],
   "metadata": {
    "collapsed": false,
    "pycharm": {
     "name": "#%% md\n"
    }
   }
  },
  {
   "cell_type": "markdown",
   "source": [
    "ssDNA preprocessing"
   ],
   "metadata": {
    "collapsed": false,
    "pycharm": {
     "name": "#%% md\n"
    }
   }
  },
  {
   "cell_type": "code",
   "execution_count": null,
   "outputs": [],
   "source": [
    "import cv2\n",
    "import stDrosophila as sd\n",
    "\n",
    "tif = cv2.imread(\"/media/yao/Elements SE/BGI_Paper/mouse_diaphragm/ssDNA_image/FP200000514BR_C1.tif\", 2)\n",
    "pre_tif = sd.pp.pre_photo(img=tif, rectangle_crop=None, coords_flip=None,\n",
    "                          ehtranfer={\"method\": \"local\", \"cliplimit\": 15}, show=True, save=\"mouse_diaphragm_C1_tif.tif\")"
   ],
   "metadata": {
    "collapsed": false,
    "pycharm": {
     "name": "#%%\n"
    }
   }
  },
  {
   "cell_type": "markdown",
   "source": [
    "lasso preprocessing"
   ],
   "metadata": {
    "collapsed": false,
    "pycharm": {
     "name": "#%% md\n"
    }
   }
  },
  {
   "cell_type": "code",
   "execution_count": null,
   "outputs": [],
   "source": [
    "import pandas as pd\n",
    "import stDrosophila as sd\n",
    "\n",
    "lasso = pd.read_csv(\"/media/yao/Elements SE/BGI_Paper/mouse_diaphragm/lasso_raw/lasso_bin20/mouse_diaphragm_C1.gem.gz\", sep=\"\\t\", compression=\"gzip\")\n",
    "pre_lasso, pre_lasso_img = sd.pp.pre_lasso(data=lasso, rectangle_crop=None, ehtranfer={\"method\": \"local\", \"cliplimit\": 10}, gray_factor=None,\n",
    "                                           show=True, save_img=\"/media/yao/Elements SE/BGI_Paper/mouse_diaphragm/lasso_pre/mouse_diaphragm_C1_lasso.tif\",\n",
    "                                           save_lasso=\"/media/yao/Elements SE/BGI_Paper/mouse_diaphragm/lasso_pre/mouse_diaphragm_C1_pre.txt\")"
   ],
   "metadata": {
    "collapsed": false,
    "pycharm": {
     "name": "#%%\n",
     "is_executing": true
    }
   }
  },
  {
   "cell_type": "markdown",
   "source": [
    "cropping after photoshop"
   ],
   "metadata": {
    "collapsed": false,
    "pycharm": {
     "name": "#%% md\n"
    }
   }
  },
  {
   "cell_type": "code",
   "execution_count": null,
   "outputs": [],
   "source": [
    "import cv2\n",
    "import pandas as pd\n",
    "import stDrosophila as sd\n",
    "\n",
    "tif = cv2.imread(\"/media/yao/Elements SE/BGI_Paper/mouse_diaphragm/lasso_pre/mouse_diaphragm_C1/img/mouse_diaphragm_C1_ps.tif\", 2)\n",
    "lasso = pd.read_csv(r\"/media/yao/Elements SE/BGI_Paper/mouse_diaphragm/lasso_pre/mouse_diaphragm_C1/mouse_diaphragm_C1_pre.txt\", sep=\"\\t\")\n",
    "new_lasso = sd.pp.cropbyphoto(data=lasso, img=tif, background=255, save=r\"/media/yao/Elements SE/BGI_Paper/mouse_diaphragm/lasso_pre/mouse_diaphragm_C1.txt.gz\")\n",
    "print(new_lasso)"
   ],
   "metadata": {
    "collapsed": false,
    "pycharm": {
     "name": "#%%\n",
     "is_executing": true
    }
   }
  },
  {
   "cell_type": "markdown",
   "source": [
    "visualize cropped lasso"
   ],
   "metadata": {
    "collapsed": false,
    "pycharm": {
     "name": "#%% md\n"
    }
   }
  },
  {
   "cell_type": "code",
   "execution_count": 2,
   "outputs": [
    {
     "name": "stderr",
     "output_type": "stream",
     "text": [
      "... storing 'slice' as categorical\n"
     ]
    },
    {
     "data": {
      "text/plain": "<Figure size 432x288 with 0 Axes>"
     },
     "metadata": {},
     "output_type": "display_data"
    }
   ],
   "source": [
    "\n",
    "import stDrosophila as sd\n",
    "data = sd.io.read_lasso(filename=r\"/media/yao/Elements SE/BGI_Paper/mouse_diaphragm/lasso_pre/mouse_diaphragm_C3.txt\")\n",
    "adata = sd.io.lasso2adata(data=data, slice=\"mouse_diaphragm_C3\", binsize=20)\n",
    "sd.pl.spatial_plot(adata=adata, cluster_col=None, save=\"/media/yao/Elements SE/BGI_Paper/mouse_diaphragm/lasso_pre/mouse_diaphragm_C3_coords.png\",\n",
    "                   slice_col=\"slice\", spot_size=1)"
   ],
   "metadata": {
    "collapsed": false,
    "pycharm": {
     "name": "#%%\n"
    }
   }
  },
  {
   "cell_type": "code",
   "execution_count": null,
   "outputs": [],
   "source": [],
   "metadata": {
    "collapsed": false,
    "pycharm": {
     "name": "#%%\n"
    }
   }
  },
  {
   "cell_type": "markdown",
   "source": [
    "## construct an AnnData object suitable for downstream analysis"
   ],
   "metadata": {
    "collapsed": false,
    "pycharm": {
     "name": "#%% md\n"
    }
   }
  }
 ],
 "metadata": {
  "kernelspec": {
   "display_name": "Python 3",
   "language": "python",
   "name": "python3"
  },
  "language_info": {
   "codemirror_mode": {
    "name": "ipython",
    "version": 2
   },
   "file_extension": ".py",
   "mimetype": "text/x-python",
   "name": "python",
   "nbconvert_exporter": "python",
   "pygments_lexer": "ipython2",
   "version": "2.7.6"
  }
 },
 "nbformat": 4,
 "nbformat_minor": 0
}