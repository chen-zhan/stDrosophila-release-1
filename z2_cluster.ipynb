{
 "cells": [
  {
   "cell_type": "markdown",
   "metadata": {
    "collapsed": true,
    "pycharm": {
     "name": "#%% md\n"
    }
   },
   "source": [
    "## cluster\n",
    "\n",
    "    This notebook demonstrate:\n",
    "    1.data preprocessing;\n",
    "    2.Classical leiden clustering and louvain clustering\n",
    "    3.STAGATE clustering method\n",
    "    4.SPAGCN clustering method"
   ]
  },
  {
   "cell_type": "markdown",
   "source": [
    "### preprocessing--normalization (SCtransform)\n",
    "\n",
    "> Since the original data and the post-SCT data are placed in one adata, the adata data will be too large, which will make subsequent analysis difficult.\n",
    "> Therefore, here we choose to store the original data and the data after SCT separately.\n",
    "\n",
    "- sct_adata_new: stores new data, including `gene expression data after SCT` and `new coordinate data after registration`.\n",
    "- sct_adata_raw: stores raw data, including `raw gene expression` data and `raw coordinate data`."
   ],
   "metadata": {
    "collapsed": false,
    "pycharm": {
     "name": "#%% md\n"
    }
   }
  },
  {
   "cell_type": "code",
   "execution_count": null,
   "outputs": [
    {
     "name": "stdout",
     "output_type": "stream",
     "text": [
      "----L3_b_S25 successfully!\n",
      "----L3_b_S26 successfully!\n",
      "----L3_b_S27 successfully!\n",
      "----L3_b_S28 successfully!\n",
      "----L3_b_S29 successfully!\n",
      "----L3_b_S30 successfully!\n"
     ]
    }
   ],
   "source": [
    "import os\n",
    "import anndata as ad\n",
    "import stDrosophila as sd\n",
    "\n",
    "folder = \"/media/yao/Elements SE/BGI_Paper/L3_new/L3_b/align_adata/L3_b_bin20\"\n",
    "files = [os.path.join(root, filename)for root, dirs, files in os.walk(folder)for filename in files]\n",
    "files.sort()\n",
    "for file in files:\n",
    "    # input adata\n",
    "    adata = ad.read(file)\n",
    "    # run sd.tl.sct_stereo\n",
    "    sct_adata_new, sct_adata_raw = sd.tl.sct_stereo(adata, filter_hvgs=True)\n",
    "    # save\n",
    "    sct_adata_new.write_h5ad(\n",
    "        f\"/media/yao/Elements SE/BGI_Paper/L3_new/L3_b/sct_adata/L3_b_bin20/{sct_adata_new.obs['slice'][0]}.h5ad\")\n",
    "    sct_adata_raw.write_h5ad(\n",
    "        f\"/media/yao/Elements SE/BGI_Paper/L3_new/L3_b/sct_adata/L3_b_bin20_raw/{sct_adata_raw.obs['slice'][0]}.h5ad\")\n",
    "    print(f\"----{sct_adata_new.obs['slice'][0]} successfully!\")"
   ],
   "metadata": {
    "collapsed": false,
    "pycharm": {
     "name": "#%%\n",
     "is_executing": true
    }
   }
  },
  {
   "cell_type": "markdown",
   "source": [
    "### STAGATE clustering"
   ],
   "metadata": {
    "collapsed": false
   }
  },
  {
   "cell_type": "code",
   "execution_count": null,
   "outputs": [],
   "source": [
    "import anndata as ad\n",
    "import scanpy as sc\n",
    "import stDrosophila as sd\n",
    "import torch\n",
    "\n",
    "# input adata\n",
    "ipath = 'D:\\BGIpy37_pytorch113\\Data_Anno_H5ad\\sct_analysis_anno_h5ad\\L2_a_fatbody_pre.h5ad'\n",
    "adata = ad.read(ipath)\n",
    "# run sd.tl.STAGATE_SNN\n",
    "adata = sd.tl.STAGATE_SNN(adata, type=\"3D\", slice_col=\"slice\", cutoff_2D=3, cutoff_Zaxis=3,\n",
    "                          n_epoch=1000, lr=1e-4, weight_decay=1e-4, device=torch.device('cuda:0'), verbose=True)"
   ],
   "metadata": {
    "collapsed": false,
    "pycharm": {
     "name": "#%%\n"
    }
   }
  },
  {
   "cell_type": "code",
   "execution_count": null,
   "outputs": [],
   "source": [
    "# cluster by leiden, louvain or mclust(R)\n",
    "sc.pp.neighbors(adata, use_rep='STAGATE', n_neighbors=20)\n",
    "sc.tl.umap(adata)\n",
    "resolution = 0.5\n",
    "sc.tl.louvain(adata, resolution=resolution, key_added=f\"louvain_{str(resolution)}\")\n",
    "## sc.tl.leiden(adata, resolution=resolution, key_added=f\"leiden_{str(resolution)}\")\n",
    "adata.write_h5ad(r\"D:\\BGIpy37_pytorch113\\Data_Anno_H5ad\\sct_analysis_anno_h5ad\\L2_a_fatbody_STAGATE_louvain.h5ad\")"
   ],
   "metadata": {
    "collapsed": false,
    "pycharm": {
     "name": "#%%\n"
    }
   }
  }
 ],
 "metadata": {
  "kernelspec": {
   "display_name": "Python 3",
   "language": "python",
   "name": "python3"
  },
  "language_info": {
   "codemirror_mode": {
    "name": "ipython",
    "version": 2
   },
   "file_extension": ".py",
   "mimetype": "text/x-python",
   "name": "python",
   "nbconvert_exporter": "python",
   "pygments_lexer": "ipython2",
   "version": "2.7.6"
  }
 },
 "nbformat": 4,
 "nbformat_minor": 0
}