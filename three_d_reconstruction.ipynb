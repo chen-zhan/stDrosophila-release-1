{
 "cells": [
  {
   "cell_type": "markdown",
   "metadata": {
    "collapsed": true,
    "pycharm": {
     "name": "#%% md\n"
    }
   },
   "source": [
    "## **Reconstruction three D model**\n",
    "\n",
    "    This notebook demonstrate:\n",
    "    1.reconstruction of three-dimensional structure and its surface;\n",
    "    2.calculate the volume of a 3D structure;\n",
    "    3.slicing 3D structures.\n",
    "    4.the relevant plotting functions;"
   ]
  },
  {
   "cell_type": "markdown",
   "metadata": {
    "pycharm": {
     "name": "#%% md\n"
    }
   },
   "source": [
    "### **Load Packages**"
   ]
  },
  {
   "cell_type": "code",
   "execution_count": 22,
   "metadata": {
    "pycharm": {
     "name": "#%%\n"
    }
   },
   "outputs": [],
   "source": [
    "import anndata as ad\n",
    "import pyvista as pv\n",
    "import stDrosophila as sd"
   ]
  },
  {
   "cell_type": "markdown",
   "metadata": {
    "pycharm": {
     "name": "#%% md\n"
    }
   },
   "source": [
    "### **Load data**"
   ]
  },
  {
   "cell_type": "code",
   "execution_count": 23,
   "metadata": {
    "pycharm": {
     "name": "#%%\n"
    }
   },
   "outputs": [
    {
     "name": "stdout",
     "output_type": "stream",
     "text": [
      "AnnData object with n_obs × n_vars = 14460 × 12841\n",
      "    obs: 'x', 'y', 'z', 'anno'\n",
      "    obsm: 'spatial'\n",
      "                     x      y     z              anno\n",
      "XxY                                                  \n",
      "14660x106900-0    2.50  17.78   0.0  dorsal epidermis\n",
      "14660x106920-0    2.50  18.78   0.0    head epidermis\n",
      "14660x106940-0    2.50  19.78   0.0    head epidermis\n",
      "14660x106960-0    2.50  20.78   0.0    head epidermis\n",
      "14680x106860-0    3.50  15.78   0.0    head epidermis\n",
      "...                ...    ...   ...               ...\n",
      "47800x103760-13  32.32  25.90  13.0         epidermis\n",
      "47800x103780-13  33.23  25.49  13.0         epidermis\n",
      "47800x103800-13  34.15  25.08  13.0         epidermis\n",
      "47800x103820-13  35.06  24.68  13.0         epidermis\n",
      "47800x103840-13  35.98  24.27  13.0         epidermis\n",
      "\n",
      "[14460 rows x 4 columns]\n",
      "[[ 2.5  17.78  0.  ]\n",
      " [ 2.5  18.78  0.  ]\n",
      " [ 2.5  19.78  0.  ]\n",
      " ...\n",
      " [34.15 25.08 13.  ]\n",
      " [35.06 24.68 13.  ]\n",
      " [35.98 24.27 13.  ]]\n"
     ]
    }
   ],
   "source": [
    "ipath = r\"D:\\BGIpy38_r\\Test_Data\\test_data.h5ad\"\n",
    "adata = ad.read(ipath)\n",
    "adata.obsm[\"spatial\"] = adata.obs[[\"x\", \"y\", \"z\"]].values\n",
    "print(adata)\n",
    "print(adata.obs)\n",
    "print(adata.obsm[\"spatial\"])"
   ]
  },
  {
   "cell_type": "markdown",
   "metadata": {},
   "source": [
    "### **Reconstruction**\n",
    "\n",
    "Here, we will use `st.pl.build_three_d_model` to reconstruct 3D structure and its surface and `st.pl.easy_three_d_plot` to display 3D structure.\n",
    "- group_show: types of input values include:\n",
    "    * group_show = 'all'    # diplay all groups\n",
    "    * group_show = 'tissue1'    # diplay 'tissue1' group\n",
    "    * group_show = ['tissue1', 'tissue2']   # diplay 'tissue1' group and 'tissue2' group\n",
    "- gene_show: types of input values include:\n",
    "    * gene_show = 'all'\n",
    "    * gene_show = 'gene1'\n",
    "    * gene_show = ['gene1', 'gene2']\n",
    "- group_cmap: types of input values include:\n",
    "    * group_show = 'rainbow'\n",
    "    * group_show = ['dodgerblue', 'yellowgreen']\n",
    "    * group_show = {'tissue1': 'dodgerblue', 'tissue2': 'yellowgreen'}"
   ]
  },
  {
   "cell_type": "code",
   "execution_count": 24,
   "metadata": {
    "pycharm": {
     "name": "#%%\n"
    }
   },
   "outputs": [],
   "source": [
    "mesh, surface = sd.pl.build_three_d_model(adata=adata, groupby=\"anno\", group_show=\"fat body\", gene_show=\"Adh\",\n",
    "                                    group_cmap=[\"dodgerblue\"], mask_alpha=0, voxelize=False)"
   ]
  },
  {
   "cell_type": "code",
   "execution_count": 25,
   "metadata": {
    "pycharm": {
     "name": "#%%\n"
    }
   },
   "outputs": [
    {
     "data": {
      "application/vnd.jupyter.widget-view+json": {
       "model_id": "e4680e37b423440cada41ff931a561ee",
       "version_major": 2,
       "version_minor": 0
      },
      "text/plain": [
       "ViewInteractiveWidget(height=768, layout=Layout(height='auto', width='100%'), width=1024)"
      ]
     },
     "metadata": {},
     "output_type": "display_data"
    }
   ],
   "source": [
    "# show groups\n",
    "sd.pl.easy_three_d_plot(mesh, surface, scalar=\"groups\", notebook=True)"
   ]
  },
  {
   "cell_type": "code",
   "execution_count": 26,
   "metadata": {
    "pycharm": {
     "name": "#%%\n"
    }
   },
   "outputs": [
    {
     "data": {
      "application/vnd.jupyter.widget-view+json": {
       "model_id": "fa8975311c4e4d7abeacea7e393c321e",
       "version_major": 2,
       "version_minor": 0
      },
      "text/plain": [
       "ViewInteractiveWidget(height=768, layout=Layout(height='auto', width='100%'), width=1024)"
      ]
     },
     "metadata": {},
     "output_type": "display_data"
    }
   ],
   "source": [
    "# show gene expression\n",
    "sd.pl.easy_three_d_plot(mesh, surface, scalar=\"genes\", notebook=True)"
   ]
  },
  {
   "cell_type": "markdown",
   "metadata": {
    "pycharm": {
     "name": "#%% md\n"
    }
   },
   "source": [
    "### **Slicing 3D structures.**\n",
    "The 3D structure used for slicing and calculating the volume must be voxelized, so we need to create a new voxelized 3D structure"
   ]
  },
  {
   "cell_type": "code",
   "execution_count": 27,
   "metadata": {
    "pycharm": {
     "name": "#%%\n"
    }
   },
   "outputs": [
    {
     "data": {
      "application/vnd.jupyter.widget-view+json": {
       "model_id": "cb54955e79f740e6b5874fb1c8114cfb",
       "version_major": 2,
       "version_minor": 0
      },
      "text/plain": [
       "ViewInteractiveWidget(height=768, layout=Layout(height='auto', width='100%'), width=1024)"
      ]
     },
     "metadata": {},
     "output_type": "display_data"
    }
   ],
   "source": [
    "mesh, surface = sd.pl.build_three_d_model(adata=adata, groupby=\"anno\", group_show=\"fat body\", gene_show=\"Adh\",\n",
    "                                    group_cmap=[\"dodgerblue\"], mask_alpha=0.5, voxelize=True, voxel_size=[1,1,1])\n",
    "sd.pl.easy_three_d_plot(mesh, None, scalar=\"groups\", notebook=True)"
   ]
  },
  {
   "cell_type": "markdown",
   "metadata": {
    "pycharm": {
     "name": "#%% md\n"
    }
   },
   "source": [
    "The ways of slicing the three-dimensional structure include slicing along the axis and orthogonal slicing, wherein slicing along the axis further includes slicing along the x-axis, the y-axis, and the z-axis.\n",
    "Here, we will use `st.pl.three_d_slicing` to slice the three-dimensional structure."
   ]
  },
  {
   "cell_type": "code",
   "execution_count": 31,
   "metadata": {
    "pycharm": {
     "name": "#%%\n"
    }
   },
   "outputs": [
    {
     "data": {
      "application/vnd.jupyter.widget-view+json": {
       "model_id": "1d3c40e8d6a146b68f6d90dac09d4211",
       "version_major": 2,
       "version_minor": 0
      },
      "text/plain": [
       "ViewInteractiveWidget(height=768, layout=Layout(height='auto', width='100%'), width=1024)"
      ]
     },
     "metadata": {},
     "output_type": "display_data"
    }
   ],
   "source": [
    "# along x-axis\n",
    "slices_x = sd.pl.three_d_slicing(mesh, axis='x', n_slices=7)\n",
    "# along y-axis\n",
    "slices_y = sd.pl.three_d_slicing(mesh, axis='y', n_slices=7)\n",
    "# along z-axis\n",
    "slices_z = sd.pl.three_d_slicing(mesh, axis='z', n_slices=5)\n",
    "# orthogonal slicing\n",
    "slices_o = sd.pl.three_d_slicing(mesh, n_slices='orthogonal')\n",
    "\n",
    "# display\n",
    "p = pv.Plotter(shape=(2,2), notebook=True)\n",
    "p.subplot(0, 0)\n",
    "p.add_mesh(slices_x, scalars=\"groups_rgba\", rgba=True)\n",
    "p.background_color = \"white\"\n",
    "p.camera_position = \"iso\"\n",
    "p.subplot(0, 1)\n",
    "p.add_mesh(slices_y, scalars=\"groups_rgba\", rgba=True)\n",
    "p.background_color = \"white\"\n",
    "p.camera_position = \"iso\"\n",
    "p.subplot(1, 0)\n",
    "p.add_mesh(slices_z, scalars=\"groups_rgba\", rgba=True)\n",
    "p.background_color = \"white\"\n",
    "p.camera_position = \"iso\"\n",
    "p.subplot(1, 1)\n",
    "p.add_mesh(slices_o, scalars=\"groups_rgba\", rgba=True)\n",
    "p.background_color = \"white\"\n",
    "p.camera_position = \"iso\"\n",
    "p.show()"
   ]
  },
  {
   "cell_type": "markdown",
   "metadata": {},
   "source": [
    "### **Calculate the volume.**\n",
    "Here, we will use `st.pl.compute_volume` to calculate the volume of the reconstructed 3D structure."
   ]
  },
  {
   "cell_type": "code",
   "execution_count": 32,
   "metadata": {
    "pycharm": {
     "name": "#%%\n"
    }
   },
   "outputs": [
    {
     "name": "stdout",
     "output_type": "stream",
     "text": [
      "all volume: 13984.0\n",
      "['fat body'] volume: 719.0\n"
     ]
    }
   ],
   "source": [
    "volume_size_all = sd.pl.compute_volume(mesh=mesh, group_show=\"all\")\n",
    "volume_size_tissue = sd.pl.compute_volume(mesh=mesh, group_show=\"fat body\")"
   ]
  },
  {
   "cell_type": "code",
   "execution_count": null,
   "metadata": {},
   "outputs": [],
   "source": []
  },
  {
   "cell_type": "code",
   "execution_count": null,
   "metadata": {},
   "outputs": [],
   "source": []
  },
  {
   "cell_type": "code",
   "execution_count": null,
   "metadata": {},
   "outputs": [],
   "source": []
  }
 ],
 "metadata": {
  "kernelspec": {
   "display_name": "Python 3 (ipykernel)",
   "language": "python",
   "name": "python3"
  },
  "language_info": {
   "codemirror_mode": {
    "name": "ipython",
    "version": 3
   },
   "file_extension": ".py",
   "mimetype": "text/x-python",
   "name": "python",
   "nbconvert_exporter": "python",
   "pygments_lexer": "ipython3",
   "version": "3.8.12"
  }
 },
 "nbformat": 4,
 "nbformat_minor": 1
}