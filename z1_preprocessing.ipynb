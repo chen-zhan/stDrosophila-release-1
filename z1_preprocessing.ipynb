{
 "cells": [
  {
   "cell_type": "markdown",
   "metadata": {
    "collapsed": true,
    "pycharm": {
     "name": "#%% md\n"
    }
   },
   "source": [
    "## lasso file preprocessing\n",
    "\n",
    "    This notebook demonstrate:\n",
    "    1.merge different parts of the same slice and save in compressed csv format(.gz);\n",
    "    2.convert bin1 data to bin20, bin50 and bin100 data;\n",
    "    3.construct an AnnData object suitable for downstream analysis;\n",
    "    4.visualize raw coordinate images;\n",
    "    5.registration/alignment;\n",
    "    6.visualize the coordinate image after registration/alignment."
   ]
  },
  {
   "cell_type": "markdown",
   "source": [
    "### 1. merge different parts of the same slice and save in compressed csv format(.gz)"
   ],
   "metadata": {
    "collapsed": false,
    "pycharm": {
     "name": "#%% md\n"
    }
   }
  },
  {
   "cell_type": "code",
   "execution_count": 9,
   "outputs": [
    {
     "name": "stdout",
     "output_type": "stream",
     "text": [
      "        geneID      x      y  MIDCounts\n",
      "35       128up   3491  12626          1\n",
      "22       128up   3683  12425          1\n",
      "9        128up   3711  12952          1\n",
      "24       128up   3720  12940          1\n",
      "45       128up   3721  12618          1\n",
      "...        ...    ...    ...        ...\n",
      "6389360    zye   9988  13194          1\n",
      "6390106    zye   9989  13465          1\n",
      "6389609    zye   9993  13563          1\n",
      "6389969    zye   9993  13566          1\n",
      "6389425    zye  10003  13134          1\n",
      "\n",
      "[8420948 rows x 4 columns]\n"
     ]
    }
   ],
   "source": [
    "import pandas as pd\n",
    "import stDrosophila as sd\n",
    "# concat file\n",
    "file1 = \"/media/yao/Elements SE/BGI_Paper/L3_new/L3_a/lasso/lasso_L3_a_bin1_raw/L3_a_S72_1.gem.gz\"\n",
    "file2 = \"/media/yao/Elements SE/BGI_Paper/L3_new/L3_a/lasso/lasso_L3_a_bin1_raw/L3_a_S72_2.gem.gz\"\n",
    "data1 = sd.io.read_lasso(filename=file1)\n",
    "data2 = sd.io.read_lasso(filename=file2)\n",
    "concat_data = pd.concat([data1, data2], axis=0)\n",
    "concat_data.sort_values(by=[\"geneID\", \"x\", \"y\", \"MIDCounts\"], inplace=True)\n",
    "concat_data.to_csv(\"/media/yao/Elements SE/BGI_Paper/L3_new/L3_a/lasso/lasso_L3_a_bin1/L3_a_S72.gem.gz\",\n",
    "                   index=False, sep=\"\\t\", compression=\"gzip\")\n",
    "print(concat_data)"
   ],
   "metadata": {
    "collapsed": false,
    "pycharm": {
     "name": "#%%\n"
    }
   }
  },
  {
   "cell_type": "markdown",
   "source": [
    "### 2. convert bin1 data to bin20, bin50 and bin100 data (the following takes bin50 as an example）"
   ],
   "metadata": {
    "collapsed": false
   }
  },
  {
   "cell_type": "code",
   "execution_count": 3,
   "outputs": [
    {
     "name": "stdout",
     "output_type": "stream",
     "text": [
      "['/media/yao/Elements SE/BGI_Paper/E16_18_d/E16_18_d_bin1/E16-18h_d_S01_bin1.gem', '/media/yao/Elements SE/BGI_Paper/E16_18_d/E16_18_d_bin1/E16-18h_d_S02_bin1.gem', '/media/yao/Elements SE/BGI_Paper/E16_18_d/E16_18_d_bin1/E16-18h_d_S03_bin1.gem', '/media/yao/Elements SE/BGI_Paper/E16_18_d/E16_18_d_bin1/E16-18h_d_S04_bin1.gem', '/media/yao/Elements SE/BGI_Paper/E16_18_d/E16_18_d_bin1/E16-18h_d_S05_bin1.gem', '/media/yao/Elements SE/BGI_Paper/E16_18_d/E16_18_d_bin1/E16-18h_d_S06_bin1.gem', '/media/yao/Elements SE/BGI_Paper/E16_18_d/E16_18_d_bin1/E16-18h_d_S07_bin1.gem', '/media/yao/Elements SE/BGI_Paper/E16_18_d/E16_18_d_bin1/E16-18h_d_S08_bin1.gem', '/media/yao/Elements SE/BGI_Paper/E16_18_d/E16_18_d_bin1/E16-18h_d_S09_bin1.gem', '/media/yao/Elements SE/BGI_Paper/E16_18_d/E16_18_d_bin1/E16-18h_d_S10_bin1.gem', '/media/yao/Elements SE/BGI_Paper/E16_18_d/E16_18_d_bin1/E16-18h_d_S11_bin1.gem', '/media/yao/Elements SE/BGI_Paper/E16_18_d/E16_18_d_bin1/E16-18h_d_S12_bin1.gem', '/media/yao/Elements SE/BGI_Paper/E16_18_d/E16_18_d_bin1/E16-18h_d_S13_bin1.gem', '/media/yao/Elements SE/BGI_Paper/E16_18_d/E16_18_d_bin1/E16-18h_d_S14_bin1.gem', '/media/yao/Elements SE/BGI_Paper/E16_18_d/E16_18_d_bin1/E16-18h_d_S15_bin1.gem', '/media/yao/Elements SE/BGI_Paper/E16_18_d/E16_18_d_bin1/E16-18h_d_S16_bin1.gem', '/media/yao/Elements SE/BGI_Paper/E16_18_d/E16_18_d_bin1/E16-18h_d_S17_bin1.gem', '/media/yao/Elements SE/BGI_Paper/E16_18_d/E16_18_d_bin1/E16-18h_d_S18_bin1.gem', '/media/yao/Elements SE/BGI_Paper/E16_18_d/E16_18_d_bin1/E16-18h_d_S19_bin1.gem', '/media/yao/Elements SE/BGI_Paper/E16_18_d/E16_18_d_bin1/E16-18h_d_S20_bin1.gem', '/media/yao/Elements SE/BGI_Paper/E16_18_d/E16_18_d_bin1/E16-18h_d_S22_bin1.gem']\n",
      "----01 start!\n",
      "----01 successfully!\n",
      "----02 start!\n",
      "----02 successfully!\n",
      "----03 start!\n",
      "----03 successfully!\n",
      "----04 start!\n",
      "----04 successfully!\n",
      "----05 start!\n",
      "----05 successfully!\n",
      "----06 start!\n",
      "----06 successfully!\n",
      "----07 start!\n",
      "----07 successfully!\n",
      "----08 start!\n",
      "----08 successfully!\n",
      "----09 start!\n",
      "----09 successfully!\n",
      "----10 start!\n",
      "----10 successfully!\n",
      "----11 start!\n",
      "----11 successfully!\n",
      "----12 start!\n",
      "----12 successfully!\n",
      "----13 start!\n",
      "----13 successfully!\n",
      "----14 start!\n",
      "----14 successfully!\n",
      "----15 start!\n",
      "----15 successfully!\n",
      "----16 start!\n",
      "----16 successfully!\n",
      "----17 start!\n",
      "----17 successfully!\n",
      "----18 start!\n",
      "----18 successfully!\n",
      "----19 start!\n",
      "----19 successfully!\n",
      "----20 start!\n",
      "----20 successfully!\n",
      "----22 start!\n",
      "----22 successfully!\n"
     ]
    }
   ],
   "source": [
    "import os\n",
    "import stDrosophila as sd\n",
    "folder = \"/media/yao/Elements SE/BGI_Paper/E16_18_d/E16_18_d_bin1\"\n",
    "files = [os.path.join(root, filename)for root, dirs, files in os.walk(folder)for filename in files]\n",
    "files.sort()\n",
    "print(files)\n",
    "for file in files:\n",
    "    bin1_data = sd.io.read_lasso(filename=file)\n",
    "    file_name = file.split(\"/\")[-1][-11:-9]\n",
    "\n",
    "    print(f\"----{file_name} start!\")\n",
    "    data = sd.pp.bin1tobinx(bin1_data, 20,\n",
    "                            save=f\"/media/yao/Elements SE/BGI_Paper/E16_18_d/E16_18_d_bin20/E16_18_d_S{file_name}.gem.gz\")\n",
    "    del data\n",
    "    print(f\"----{file_name} successfully!\")"
   ],
   "metadata": {
    "collapsed": false,
    "pycharm": {
     "name": "#%%\n"
    }
   }
  },
  {
   "cell_type": "markdown",
   "source": [
    "### 3. construct an AnnData object suitable for downstream analysis (the following takes bin20 as an example）"
   ],
   "metadata": {
    "collapsed": false,
    "pycharm": {
     "name": "#%% md\n"
    }
   }
  },
  {
   "cell_type": "code",
   "execution_count": 5,
   "outputs": [
    {
     "name": "stderr",
     "output_type": "stream",
     "text": [
      "... storing 'slice' as categorical\n",
      "... storing 'slice' as categorical\n",
      "... storing 'slice' as categorical\n",
      "... storing 'slice' as categorical\n",
      "... storing 'slice' as categorical\n",
      "... storing 'slice' as categorical\n",
      "... storing 'slice' as categorical\n",
      "... storing 'slice' as categorical\n",
      "... storing 'slice' as categorical\n",
      "... storing 'slice' as categorical\n",
      "... storing 'slice' as categorical\n",
      "... storing 'slice' as categorical\n",
      "... storing 'slice' as categorical\n",
      "... storing 'slice' as categorical\n",
      "... storing 'slice' as categorical\n",
      "... storing 'slice' as categorical\n",
      "... storing 'slice' as categorical\n",
      "... storing 'slice' as categorical\n",
      "... storing 'slice' as categorical\n",
      "... storing 'slice' as categorical\n"
     ]
    }
   ],
   "source": [
    "import os\n",
    "import stDrosophila as sd\n",
    "\n",
    "folder = \"/media/yao/Elements SE/BGI_Paper/E16_18_d/E16_18_d_bin20/raw_lasso\"\n",
    "files = [os.path.join(root, filename)for root, dirs, files in os.walk(folder)for filename in files]\n",
    "files.sort()\n",
    "for file in files:\n",
    "    data = sd.io.read_lasso(filename=file)\n",
    "    file_name = file.split(\"/\")[-1]\n",
    "\n",
    "    #print(f\"----{file_name} start!\")\n",
    "    z = int(file_name[-9:-7])\n",
    "    adata = sd.io.lasso2adata(data=data, slice=file_name[:-7], z_gap=7, z=z)\n",
    "    adata.write_h5ad(f\"/media/yao/Elements SE/BGI_Paper/E16_18_d/E16_18_d_bin20/raw_adata/{adata.obs['slice'][0]}.h5ad\")\n",
    "    #print(f\"----{file_name} successfully!\")"
   ],
   "metadata": {
    "collapsed": false,
    "pycharm": {
     "name": "#%%\n"
    }
   }
  },
  {
   "cell_type": "markdown",
   "source": [
    "### 4. visualize raw coordinate images"
   ],
   "metadata": {
    "collapsed": false,
    "pycharm": {
     "name": "#%% md\n"
    }
   }
  },
  {
   "cell_type": "code",
   "execution_count": 7,
   "outputs": [
    {
     "data": {
      "text/plain": "<Figure size 432x288 with 0 Axes>"
     },
     "metadata": {},
     "output_type": "display_data"
    }
   ],
   "source": [
    "import os\n",
    "import anndata as ad\n",
    "import stDrosophila as sd\n",
    "folder = \"/media/yao/Elements SE/BGI_Paper/E16_18_d/E16_18_d_bin1/raw_adata\"\n",
    "files = [os.path.join(root, filename) for root, dirs, files in os.walk(folder) for filename in files]\n",
    "files.sort()\n",
    "adata_list = [ad.read(file) for file in files]\n",
    "sd.pl.spatial_plot(adata=adata_list, cluster_col=None, save=\"/media/yao/Elements SE/BGI_Paper/E16_18_d/E16_18_d_bin1/E16_18_d_bin1_raw_coords.png\",\n",
    "                   slice_col=\"slice\", spot_size=1)"
   ],
   "metadata": {
    "collapsed": false,
    "pycharm": {
     "name": "#%%\n"
    }
   }
  },
  {
   "cell_type": "markdown",
   "source": [
    "### 5. registration/alignment (It is recommended to run the following code in the .py file)"
   ],
   "metadata": {
    "collapsed": false,
    "pycharm": {
     "name": "#%% md\n"
    }
   }
  },
  {
   "cell_type": "code",
   "execution_count": null,
   "outputs": [
    {
     "name": "stdout",
     "output_type": "stream",
     "text": [
      "\n",
      "Whether CUDA is currently available: True\n",
      "Device: NVIDIA GeForce RTX 3060\n",
      "GPU total memory: 11 GB\n"
     ]
    },
    {
     "name": "stderr",
     "output_type": "stream",
     "text": [
      " Alignment :   0%|          | 0/57 [00:00<?, ?it/s]"
     ]
    }
   ],
   "source": [
    "# multi-slices Example (slice_alignment_bigBin):\n",
    "import os\n",
    "import anndata as ad\n",
    "import stDrosophila as sd\n",
    "import torch\n",
    "## Enter raw anndata data(slices)\n",
    "folder = \"/media/yao/Elements SE/BGI_Paper/L3_new/L3_a/raw_adata/L3_a_bin20\"\n",
    "files = [os.path.join(root, filename) for root, dirs1, files in os.walk(folder) for filename in files]\n",
    "files.sort()\n",
    "slices = [ad.read(file) for file in files]\n",
    "\n",
    "## Enter raw anndata data(slices_big)\n",
    "folder_big = \"/media/yao/Elements SE/BGI_Paper/L3_new/L3_a/raw_adata/L3_a_bin100\"\n",
    "files_big = [os.path.join(root, filename) for root, dirs2, files in os.walk(folder_big) for filename in files]\n",
    "files_big.sort()\n",
    "slices_big = [ad.read(file) for file in files_big]\n",
    "\n",
    "## Alignment\n",
    "align_slices, align_slices_big = sd.tl.slice_alignment_bigBin(slices=slices, slices_big=slices_big, alpha=0.1, numItermax=200,\n",
    "                                                              numItermaxEmd=1000000, device=torch.device(\"cuda:0\"), verbose=True)\n",
    "\n",
    "## Save the slices after alignment\n",
    "opath = \"/media/yao/Elements SE/BGI_Paper/L3_new/L3_a/align_adata/L3_a_bin20\"\n",
    "if not os.path.exists(opath):\n",
    "    os.mkdir(opath)\n",
    "for slice in align_slices:\n",
    "    subSave = os.path.join(opath, f\"{slice.obs['slice'][0]}.h5ad\")\n",
    "    slice.write_h5ad(subSave)\n",
    "\n",
    "## Save the slices_big after alignment\n",
    "opath_big = \"/media/yao/Elements SE/BGI_Paper/L3_new/L3_a/align_adata/L3_a_bin100\"\n",
    "if not os.path.exists(opath_big):\n",
    "    os.mkdir(opath_big)\n",
    "for slice in align_slices_big:\n",
    "    subSave_big = os.path.join(opath_big, f\"{slice.obs['slice'][0]}.h5ad\")\n",
    "    slice.write_h5ad(subSave_big)"
   ],
   "metadata": {
    "collapsed": false,
    "pycharm": {
     "name": "#%%\n",
     "is_executing": true
    }
   }
  },
  {
   "cell_type": "markdown",
   "source": [
    "### 6. visualize the coordinate image after registration/alignment"
   ],
   "metadata": {
    "collapsed": false,
    "pycharm": {
     "name": "#%% md\n"
    }
   }
  },
  {
   "cell_type": "code",
   "execution_count": 2,
   "outputs": [
    {
     "data": {
      "text/plain": "<Figure size 432x288 with 0 Axes>"
     },
     "metadata": {},
     "output_type": "display_data"
    }
   ],
   "source": [
    "import os\n",
    "import anndata as ad\n",
    "import stDrosophila as sd\n",
    "folder = \"/media/yao/Elements SE/BGI_Paper/L3_new/L3_a/align_adata/L3_a_bin20\"\n",
    "files = [os.path.join(root, filename) for root, dirs, files in os.walk(folder) for filename in files]\n",
    "files.sort()\n",
    "adata_list = [ad.read(file) for file in files]\n",
    "sd.pl.spatial_plot(adata=adata_list, cluster_col=None, save=\"/media/yao/Elements SE/BGI_Paper/L3_new/L3_a/align_adata/L3_a_bin20_align_coords.png\",\n",
    "                   slice_col=\"slice\", spot_size=1)"
   ],
   "metadata": {
    "collapsed": false,
    "pycharm": {
     "name": "#%%\n"
    }
   }
  }
 ],
 "metadata": {
  "kernelspec": {
   "display_name": "Python 3",
   "language": "python",
   "name": "python3"
  },
  "language_info": {
   "codemirror_mode": {
    "name": "ipython",
    "version": 2
   },
   "file_extension": ".py",
   "mimetype": "text/x-python",
   "name": "python",
   "nbconvert_exporter": "python",
   "pygments_lexer": "ipython2",
   "version": "2.7.6"
  }
 },
 "nbformat": 4,
 "nbformat_minor": 0
}