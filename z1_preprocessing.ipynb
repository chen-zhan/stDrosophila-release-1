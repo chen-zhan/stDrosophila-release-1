{
 "cells": [
  {
   "cell_type": "markdown",
   "metadata": {
    "collapsed": true,
    "pycharm": {
     "name": "#%% md\n"
    }
   },
   "source": [
    "# lasso file preprocessing\n",
    "    This notebook demonstrate:\n",
    "    1.merge different parts of the same slice and save in compressed csv format(.gz);\n",
    "    2.convert bin1 data to bin20, bin50 and bin100 data;\n",
    "    3.construct an AnnData object suitable for downstream analysis;\n",
    "    4.visualize raw coordinate images;\n",
    "    5.registration/alignment;\n",
    "    6.visualize the coordinate image after registration/alignment."
   ]
  },
  {
   "cell_type": "markdown",
   "source": [
    "### 1. merge different parts of the same slice and save in compressed csv format(.gz)"
   ],
   "metadata": {
    "collapsed": false,
    "pycharm": {
     "name": "#%% md\n"
    }
   }
  },
  {
   "cell_type": "code",
   "execution_count": 18,
   "outputs": [
    {
     "name": "stdout",
     "output_type": "stream",
     "text": [
      "        geneID      x      y  MIDCounts\n",
      "21       128up  18721  18154          1\n",
      "15       128up  18729  17018          1\n",
      "95       128up  18733  17205          1\n",
      "122      128up  18752  16340          1\n",
      "175      128up  18753  18228          1\n",
      "...        ...    ...    ...        ...\n",
      "6262108    zye  20890  19627          1\n",
      "6262239    zye  20894  19706          1\n",
      "6262210    zye  20931  19585          1\n",
      "6262005    zye  20941  19623          1\n",
      "6262394    zye  20952  19672          2\n",
      "\n",
      "[7978494 rows x 4 columns]\n"
     ]
    }
   ],
   "source": [
    "import pandas as pd\n",
    "import stDrosophila as sd\n",
    "# concat file\n",
    "file1 = \"/media/yao/Elements SE/BGI_Paper/L3_new/L3_b/lasso/lasso_L3_b_bin1_raw/L3_b_S30_1.gem.gz\"\n",
    "file2 = \"/media/yao/Elements SE/BGI_Paper/L3_new/L3_b/lasso/lasso_L3_b_bin1_raw/L3_b_S30_2.gem.gz\"\n",
    "data1 = sd.io.read_lasso(filename=file1)\n",
    "data2 = sd.io.read_lasso(filename=file2)\n",
    "concat_data = pd.concat([data1, data2], axis=0)\n",
    "concat_data.sort_values(by=[\"geneID\", \"x\", \"y\", \"MIDCounts\"], inplace=True)\n",
    "concat_data.to_csv(\"/media/yao/Elements SE/BGI_Paper/L3_new/L3_b/lasso/lasso_L3_b_bin1/L3_b_S30.gem.gz\",\n",
    "                   index=False, sep=\"\\t\", compression=\"gzip\")\n",
    "print(concat_data)"
   ],
   "metadata": {
    "collapsed": false,
    "pycharm": {
     "name": "#%%\n"
    }
   }
  },
  {
   "cell_type": "markdown",
   "source": [
    "### 2. convert bin1 data to bin20, bin50 and bin100 data (the following takes bin50 as an example）"
   ],
   "metadata": {
    "collapsed": false
   }
  },
  {
   "cell_type": "code",
   "execution_count": 23,
   "outputs": [
    {
     "name": "stdout",
     "output_type": "stream",
     "text": [
      "----L3_b_S24.gem.gz start!\n",
      "----L3_b_S24.gem.gz successfully!\n",
      "----L3_b_S25.gem.gz start!\n",
      "----L3_b_S25.gem.gz successfully!\n",
      "----L3_b_S26.gem.gz start!\n",
      "----L3_b_S26.gem.gz successfully!\n",
      "----L3_b_S27.gem.gz start!\n",
      "----L3_b_S27.gem.gz successfully!\n",
      "----L3_b_S28.gem.gz start!\n",
      "----L3_b_S28.gem.gz successfully!\n",
      "----L3_b_S29.gem.gz start!\n",
      "----L3_b_S29.gem.gz successfully!\n",
      "----L3_b_S30.gem.gz start!\n",
      "----L3_b_S30.gem.gz successfully!\n",
      "----L3_b_S31.gem.gz start!\n",
      "----L3_b_S31.gem.gz successfully!\n",
      "----L3_b_S32.gem.gz start!\n",
      "----L3_b_S32.gem.gz successfully!\n"
     ]
    }
   ],
   "source": [
    "import os\n",
    "import stDrosophila as sd\n",
    "folder = \"/media/yao/Elements SE/BGI_Paper/L3_new/L3_b/lasso/lasso_L3_b_bin1\"\n",
    "files = [os.path.join(root, filename)for root, dirs, files in os.walk(folder)for filename in files]\n",
    "files.sort()\n",
    "for file in files:\n",
    "    bin1_data = sd.io.read_lasso(filename=file)\n",
    "    file_name = file.split(\"/\")[-1]\n",
    "\n",
    "    print(f\"----{file_name} start!\")\n",
    "    data = sd.pp.bin1tobinx(bin1_data, binx=20,\n",
    "                            save=f\"/media/yao/Elements SE/BGI_Paper/L3_new/L3_b/lasso/lasso_L3_b_bin20/{file_name}\", save_format=\"gzip\")\n",
    "    del data\n",
    "    print(f\"----{file_name} successfully!\")"
   ],
   "metadata": {
    "collapsed": false,
    "pycharm": {
     "name": "#%%\n"
    }
   }
  },
  {
   "cell_type": "markdown",
   "source": [
    "### 3. construct an AnnData object suitable for downstream analysis (the following takes bin20 as an example）"
   ],
   "metadata": {
    "collapsed": false,
    "pycharm": {
     "name": "#%% md\n"
    }
   }
  },
  {
   "cell_type": "code",
   "execution_count": 28,
   "outputs": [
    {
     "name": "stdout",
     "output_type": "stream",
     "text": [
      "----L3_b_S24.gem.gz start!\n"
     ]
    },
    {
     "name": "stderr",
     "output_type": "stream",
     "text": [
      "... storing 'slice' as categorical\n"
     ]
    },
    {
     "name": "stdout",
     "output_type": "stream",
     "text": [
      "----L3_b_S24.gem.gz successfully!\n",
      "----L3_b_S25.gem.gz start!\n"
     ]
    },
    {
     "name": "stderr",
     "output_type": "stream",
     "text": [
      "... storing 'slice' as categorical\n"
     ]
    },
    {
     "name": "stdout",
     "output_type": "stream",
     "text": [
      "----L3_b_S25.gem.gz successfully!\n",
      "----L3_b_S26.gem.gz start!\n"
     ]
    },
    {
     "name": "stderr",
     "output_type": "stream",
     "text": [
      "... storing 'slice' as categorical\n"
     ]
    },
    {
     "name": "stdout",
     "output_type": "stream",
     "text": [
      "----L3_b_S26.gem.gz successfully!\n",
      "----L3_b_S27.gem.gz start!\n"
     ]
    },
    {
     "name": "stderr",
     "output_type": "stream",
     "text": [
      "... storing 'slice' as categorical\n"
     ]
    },
    {
     "name": "stdout",
     "output_type": "stream",
     "text": [
      "----L3_b_S27.gem.gz successfully!\n",
      "----L3_b_S28.gem.gz start!\n"
     ]
    },
    {
     "name": "stderr",
     "output_type": "stream",
     "text": [
      "... storing 'slice' as categorical\n"
     ]
    },
    {
     "name": "stdout",
     "output_type": "stream",
     "text": [
      "----L3_b_S28.gem.gz successfully!\n",
      "----L3_b_S29.gem.gz start!\n"
     ]
    },
    {
     "name": "stderr",
     "output_type": "stream",
     "text": [
      "... storing 'slice' as categorical\n"
     ]
    },
    {
     "name": "stdout",
     "output_type": "stream",
     "text": [
      "----L3_b_S29.gem.gz successfully!\n",
      "----L3_b_S30.gem.gz start!\n"
     ]
    },
    {
     "name": "stderr",
     "output_type": "stream",
     "text": [
      "... storing 'slice' as categorical\n"
     ]
    },
    {
     "name": "stdout",
     "output_type": "stream",
     "text": [
      "----L3_b_S30.gem.gz successfully!\n",
      "----L3_b_S31.gem.gz start!\n"
     ]
    },
    {
     "name": "stderr",
     "output_type": "stream",
     "text": [
      "... storing 'slice' as categorical\n"
     ]
    },
    {
     "name": "stdout",
     "output_type": "stream",
     "text": [
      "----L3_b_S31.gem.gz successfully!\n",
      "----L3_b_S32.gem.gz start!\n"
     ]
    },
    {
     "name": "stderr",
     "output_type": "stream",
     "text": [
      "... storing 'slice' as categorical\n"
     ]
    },
    {
     "name": "stdout",
     "output_type": "stream",
     "text": [
      "----L3_b_S32.gem.gz successfully!\n"
     ]
    }
   ],
   "source": [
    "import os\n",
    "import stDrosophila as sd\n",
    "# bin20\n",
    "folder = \"/media/yao/Elements SE/BGI_Paper/L3_new/L3_b/lasso/lasso_L3_b_bin100\"\n",
    "files = [os.path.join(root, filename)for root, dirs, files in os.walk(folder)for filename in files]\n",
    "files.sort()\n",
    "for file in files[:9]:\n",
    "    data = sd.io.read_lasso(filename=file)\n",
    "    file_name = file.split(\"/\")[-1]\n",
    "\n",
    "    print(f\"----{file_name} start!\")\n",
    "    z = int(file_name[6:8]) - 24\n",
    "    adata = sd.io.lasso2adata(data=data, slice=file_name[:-7], binsize=100, z_gap=7, z=z)\n",
    "    adata.write_h5ad(f\"/media/yao/Elements SE/BGI_Paper/L3_new/L3_b/raw_adata/L3_b_bin100/{adata.obs['slice'][0]}.h5ad\")\n",
    "    print(f\"----{file_name} successfully!\")"
   ],
   "metadata": {
    "collapsed": false,
    "pycharm": {
     "name": "#%%\n"
    }
   }
  },
  {
   "cell_type": "markdown",
   "source": [
    "### 4. visualize raw coordinate images"
   ],
   "metadata": {
    "collapsed": false,
    "pycharm": {
     "name": "#%% md\n"
    }
   }
  },
  {
   "cell_type": "code",
   "execution_count": 30,
   "outputs": [
    {
     "data": {
      "text/plain": "<Figure size 432x288 with 0 Axes>"
     },
     "metadata": {},
     "output_type": "display_data"
    }
   ],
   "source": [
    "import os\n",
    "import anndata as ad\n",
    "import stDrosophila as sd\n",
    "folder = \"/media/yao/Elements SE/BGI_Paper/L3_new/L3_b/raw_adata/L3_b_bin100\"\n",
    "files = [os.path.join(root, filename) for root, dirs, files in os.walk(folder) for filename in files]\n",
    "files.sort()\n",
    "adata_list = [ad.read(file) for file in files]\n",
    "sd.pl.spatial_plot(adata=adata_list, cluster_col=None, save=\"/media/yao/Elements SE/BGI_Paper/L3_new/L3_b/raw_adata/L3_b_bin100_raw_coords.png\",\n",
    "                   slice_col=\"slice\", spot_size=1)"
   ],
   "metadata": {
    "collapsed": false,
    "pycharm": {
     "name": "#%%\n"
    }
   }
  },
  {
   "cell_type": "markdown",
   "source": [
    "### 5. registration/alignment"
   ],
   "metadata": {
    "collapsed": false,
    "pycharm": {
     "name": "#%% md\n"
    }
   }
  },
  {
   "cell_type": "code",
   "execution_count": null,
   "outputs": [
    {
     "name": "stdout",
     "output_type": "stream",
     "text": [
      "\n",
      "Whether CUDA is currently available: True\n",
      "Device: NVIDIA GeForce RTX 3060\n",
      "GPU total memory: 11 GB\n"
     ]
    },
    {
     "name": "stderr",
     "output_type": "stream",
     "text": [
      " Alignment :   0%|          | 0/57 [00:00<?, ?it/s]"
     ]
    }
   ],
   "source": [
    "# multi-slices Example (slice_alignment_bigBin):\n",
    "import os\n",
    "import anndata as ad\n",
    "import stDrosophila as sd\n",
    "import torch\n",
    "## Enter raw anndata data(slices)\n",
    "folder = \"/media/yao/Elements SE/BGI_Paper/L3_new/L3_b/raw_adata/L3_b_bin20\"\n",
    "files = [os.path.join(root, filename) for root, dirs1, files in os.walk(folder) for filename in files]\n",
    "files.sort()\n",
    "slices = [ad.read(file) for file in files]\n",
    "\n",
    "## Enter raw anndata data(slices_big)\n",
    "folder_big = \"/media/yao/Elements SE/BGI_Paper/L3_new/L3_b/raw_adata/L3_b_bin100\"\n",
    "files_big = [os.path.join(root, filename) for root, dirs2, files in os.walk(folder_big) for filename in files]\n",
    "files_big.sort()\n",
    "slices_big = [ad.read(file) for file in files_big]\n",
    "\n",
    "## Alignment\n",
    "align_slices, align_slices_big = sd.tl.slice_alignment_bigBin(slices=slices, slices_big=slices_big, alpha=0.1, numItermax=200,\n",
    "                                                              numItermaxEmd=1000000, device=torch.device(\"cuda:0\"), verbose=True)\n",
    "\n",
    "## Save the slices after alignment\n",
    "opath = \"/media/yao/Elements SE/BGI_Paper/L3_new/L3_b/align_adata/L3_b_bin20\"\n",
    "if not os.path.exists(opath):\n",
    "    os.mkdir(opath)\n",
    "for slice in align_slices:\n",
    "    subSave = os.path.join(opath, f\"{slice.obs['slice'][0]}.h5ad\")\n",
    "    slice.write_h5ad(subSave)\n",
    "\n",
    "## Save the slices_big after alignment\n",
    "opath_big = \"/media/yao/Elements SE/BGI_Paper/L3_new/L3_b/align_adata/L3_b_bin100\"\n",
    "if not os.path.exists(opath_big):\n",
    "    os.mkdir(opath_big)\n",
    "for slice in align_slices_big:\n",
    "    subSave_big = os.path.join(opath_big, f\"{slice.obs['slice'][0]}.h5ad\")\n",
    "    slice.write_h5ad(subSave_big)"
   ],
   "metadata": {
    "collapsed": false,
    "pycharm": {
     "name": "#%%\n",
     "is_executing": true
    }
   }
  },
  {
   "cell_type": "markdown",
   "source": [
    "### 6. visualize the coordinate image after registration/alignment"
   ],
   "metadata": {
    "collapsed": false,
    "pycharm": {
     "name": "#%% md\n"
    }
   }
  },
  {
   "cell_type": "code",
   "execution_count": null,
   "outputs": [],
   "source": [
    "import os\n",
    "import anndata as ad\n",
    "import stDrosophila as sd\n",
    "folder = \"/media/yao/Elements SE/BGI_Paper/L3_new/L3_b/align_adata/L3_b_bin20\"\n",
    "files = [os.path.join(root, filename) for root, dirs, files in os.walk(folder) for filename in files]\n",
    "files.sort()\n",
    "adata_list = [ad.read(file) for file in files]\n",
    "sd.pl.spatial_plot(adata=adata_list, cluster_col=None, save=\"/media/yao/Elements SE/BGI_Paper/L3_new/L3_b/raw_adata/L3_b_bin20_raw_coords.png\",\n",
    "                   slice_col=\"slice\", spot_size=1)"
   ],
   "metadata": {
    "collapsed": false,
    "pycharm": {
     "name": "#%%\n"
    }
   }
  }
 ],
 "metadata": {
  "kernelspec": {
   "display_name": "Python 3",
   "language": "python",
   "name": "python3"
  },
  "language_info": {
   "codemirror_mode": {
    "name": "ipython",
    "version": 2
   },
   "file_extension": ".py",
   "mimetype": "text/x-python",
   "name": "python",
   "nbconvert_exporter": "python",
   "pygments_lexer": "ipython2",
   "version": "2.7.6"
  }
 },
 "nbformat": 4,
 "nbformat_minor": 0
}